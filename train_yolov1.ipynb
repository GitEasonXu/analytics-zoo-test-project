{
 "cells": [
  {
   "cell_type": "code",
   "execution_count": 1,
   "metadata": {},
   "outputs": [],
   "source": [
    "from backbone.vgg16 import VGG16\n",
    "from backbone.alexnet import AlexNet\n",
    "from backbone.resnet import ResNet50, ResNet101, ResNet152\n",
    "from backbone.inceptionv1 import InceptionV1\n",
    "from object_detection.yolov1 import YOLOV1\n",
    "import tensorflow as tf\n",
    "from tensorflow import keras\n",
    "from utiles.cifar10 import Cifar10\n",
    "from utiles.directory_generator import ClassGenerator\n",
    "from configs.yolov1_voc_config import YoloV1_config\n",
    "from utiles.pascal import Pascal_VOC\n",
    "from utiles.pascal_tfrecord import Pascal_VOC_TFRecord\n",
    "from object_detection.yolov1_loss import YoloV1Loss\n",
    "from callbacks.checkpoint_callback import checkpoint_callback as cck\n",
    "from callbacks.lr_schedule import LearningRateScheduler\n",
    "import os"
   ]
  },
  {
   "cell_type": "code",
   "execution_count": 2,
   "metadata": {},
   "outputs": [
    {
     "name": "stdout",
     "output_type": "stream",
     "text": [
      "Prepending /root/anaconda3/envs/zoo-tf2.3/lib/python3.6/site-packages/bigdl/share/conf/spark-bigdl.conf to sys.path\n",
      "Adding /root/anaconda3/envs/zoo-tf2.3/lib/python3.6/site-packages/zoo/share/lib/analytics-zoo-bigdl_0.12.1-spark_2.4.3-0.9.0-SNAPSHOT-jar-with-dependencies.jar to BIGDL_JARS\n",
      "Prepending /root/anaconda3/envs/zoo-tf2.3/lib/python3.6/site-packages/zoo/share/conf/spark-analytics-zoo.conf to sys.path\n"
     ]
    },
    {
     "name": "stderr",
     "output_type": "stream",
     "text": [
      "/root/anaconda3/envs/zoo-tf2.3/lib/python3.6/site-packages/bigdl/util/engine.py:41: UserWarning: Find both SPARK_HOME and pyspark. You may need to check whether they match with each other. SPARK_HOME environment variable is set to: /usr/local/spark2, and pyspark is found in: /root/anaconda3/envs/zoo-tf2.3/lib/python3.6/site-packages/pyspark/__init__.py. If they are unmatched, please use one source only to avoid conflict. For example, you can unset SPARK_HOME and use pyspark only.\n",
      "  warnings.warn(warning_msg)\n",
      "/root/anaconda3/envs/zoo-tf2.3/lib/python3.6/site-packages/zoo/util/engine.py:42: UserWarning: Find both SPARK_HOME and pyspark. You may need to check whether they match with each other. SPARK_HOME environment variable is set to: /usr/local/spark2, and pyspark is found in: /root/anaconda3/envs/zoo-tf2.3/lib/python3.6/site-packages/pyspark/__init__.py. If they are unmatched, you are recommended to use one source only to avoid conflict. For example, you can unset SPARK_HOME and use pyspark only.\n",
      "  warnings.warn(warning_msg)\n"
     ]
    }
   ],
   "source": [
    "import tensorflow as tf\n",
    "from zoo.orca import init_orca_context, stop_orca_context\n",
    "from zoo.orca.learn.tf2 import Estimator\n",
    "import matplotlib.pyplot as plt\n",
    "import numpy as np"
   ]
  },
  {
   "cell_type": "code",
   "execution_count": 3,
   "metadata": {},
   "outputs": [
    {
     "name": "stdout",
     "output_type": "stream",
     "text": [
      "['hdfs://manager:8020/zoo-datasets/voc_valid.tfrecord', 'hdfs://manager:8020/zoo-datasets/voc_valid.tfrecord', 'hdfs://manager:8020/zoo-datasets/voc_valid.tfrecord', 'hdfs://manager:8020/zoo-datasets/voc_valid.tfrecord', 'hdfs://manager:8020/zoo-datasets/voc_valid.tfrecord', 'hdfs://manager:8020/zoo-datasets/voc_valid.tfrecord', 'hdfs://manager:8020/zoo-datasets/voc_valid.tfrecord', 'hdfs://manager:8020/zoo-datasets/voc_valid.tfrecord']\n",
      "['hdfs://manager:8020/zoo-datasets/voc_train.tfrecord', 'hdfs://manager:8020/zoo-datasets/voc_train.tfrecord', 'hdfs://manager:8020/zoo-datasets/voc_train.tfrecord', 'hdfs://manager:8020/zoo-datasets/voc_train.tfrecord', 'hdfs://manager:8020/zoo-datasets/voc_train.tfrecord', 'hdfs://manager:8020/zoo-datasets/voc_train.tfrecord', 'hdfs://manager:8020/zoo-datasets/voc_train.tfrecord', 'hdfs://manager:8020/zoo-datasets/voc_train.tfrecord']\n"
     ]
    }
   ],
   "source": [
    "config = YoloV1_config\n",
    "valid_dataset = eval(config.datasets.name)(config, 'valid').get_dataset()\n",
    "train_dataset = eval(config.datasets.name)(config, 'train').get_dataset()"
   ]
  },
  {
   "cell_type": "code",
   "execution_count": 4,
   "metadata": {},
   "outputs": [],
   "source": [
    "def valid_data_creator(config):\n",
    "    global valid_dataset\n",
    "    return valid_dataset.batch(config[\"batch_size\"])\n",
    "def train_data_creator(config):\n",
    "    global train_dataset\n",
    "    return train_dataset.batch(config[\"batch_size\"])\n"
   ]
  },
  {
   "cell_type": "code",
   "execution_count": 5,
   "metadata": {},
   "outputs": [],
   "source": [
    "net = eval(config.net_name)(config)\n",
    "model = net.build(config.input_shape)\n",
    "#print(model.summary())\n",
    "\n",
    "if config.premodel_path and config.use_pretrained:\n",
    "    model.load_weights(config.premodel_path, by_name=True, skip_mismatch=True)\n",
    "\n",
    "# 实例化损失函数\n",
    "loss = eval(config.loss)(config)\n",
    "\n",
    "adam = keras.optimizers.Adam(lr=config.lr)\n",
    "model.compile(optimizer=adam, loss=loss, run_eagerly=True)"
   ]
  },
  {
   "cell_type": "code",
   "execution_count": 6,
   "metadata": {},
   "outputs": [],
   "source": [
    "def model_creator(config):\n",
    "    global model\n",
    "    return model"
   ]
  },
  {
   "cell_type": "code",
   "execution_count": 7,
   "metadata": {},
   "outputs": [
    {
     "name": "stdout",
     "output_type": "stream",
     "text": [
      "Epoch 1/2\n",
      "\t all loss: 61.7627, box_loss: 41.5612, obj_loss: 15.2132, cla_loss: 4.9883\n",
      "WARNING:tensorflow:From /root/anaconda3/envs/zoo-tf2.3/lib/python3.6/site-packages/tensorflow/python/ops/math_grad.py:297: setdiff1d (from tensorflow.python.ops.array_ops) is deprecated and will be removed after 2018-11-30.\n",
      "Instructions for updating:\n",
      "This op will be removed after the deprecation date. Please switch to tf.sets.difference().\n",
      " 1/66 [..............................] - ETA: 0s - loss: 61.7627\t all loss: 59.6377, box_loss: 51.6773, obj_loss: 2.6419, cla_loss: 5.3185\n",
      " 2/66 [..............................] - ETA: 17:46 - loss: 60.7002\t all loss: 56.0364, box_loss: 48.3794, obj_loss: 2.5977, cla_loss: 5.0593\n",
      " 3/66 [>.............................] - ETA: 23:12 - loss: 59.1456\t all loss: 34.7555, box_loss: 29.3850, obj_loss: 1.7838, cla_loss: 3.5867\n",
      " 4/66 [>.............................] - ETA: 25:43 - loss: 53.0481\t all loss: 36.4729, box_loss: 30.9658, obj_loss: 1.8080, cla_loss: 3.6991\n",
      " 5/66 [=>............................] - ETA: 27:07 - loss: 49.7331\t all loss: 36.5743, box_loss: 29.9800, obj_loss: 2.1397, cla_loss: 4.4545\n",
      " 6/66 [=>............................] - ETA: 27:44 - loss: 47.5399\t all loss: 59.4235, box_loss: 51.6029, obj_loss: 2.6002, cla_loss: 5.2203\n",
      " 7/66 [==>...........................] - ETA: 28:04 - loss: 49.2376\t all loss: 42.8983, box_loss: 37.5201, obj_loss: 1.9048, cla_loss: 3.4734\n",
      " 8/66 [==>...........................] - ETA: 28:09 - loss: 48.4452\t all loss: 43.6615, box_loss: 36.9592, obj_loss: 2.3015, cla_loss: 4.4008\n",
      " 9/66 [===>..........................] - ETA: 28:09 - loss: 47.9137\t all loss: 44.2113, box_loss: 36.1028, obj_loss: 2.8381, cla_loss: 5.2704\n",
      "10/66 [===>..........................] - ETA: 28:01 - loss: 47.5434\t all loss: 26.4068, box_loss: 21.8071, obj_loss: 1.6716, cla_loss: 2.9282\n",
      "11/66 [====>.........................] - ETA: 27:45 - loss: 45.6219\t all loss: 45.2598, box_loss: 37.5411, obj_loss: 3.0035, cla_loss: 4.7153\n",
      "12/66 [====>.........................] - ETA: 27:28 - loss: 45.5917\t all loss: 31.2982, box_loss: 25.7737, obj_loss: 1.9709, cla_loss: 3.5537\n",
      "13/66 [====>.........................] - ETA: 27:08 - loss: 44.4922\t all loss: 28.7963, box_loss: 23.4292, obj_loss: 1.9407, cla_loss: 3.4264\n",
      "14/66 [=====>........................] - ETA: 26:46 - loss: 43.3711\t all loss: 29.2983, box_loss: 23.4586, obj_loss: 2.2433, cla_loss: 3.5965\n",
      "15/66 [=====>........................] - ETA: 26:22 - loss: 42.4329\t all loss: 29.5396, box_loss: 24.0618, obj_loss: 2.0340, cla_loss: 3.4439\n",
      "16/66 [======>.......................] - ETA: 25:58 - loss: 41.6271\t all loss: 31.1960, box_loss: 24.3917, obj_loss: 2.2335, cla_loss: 4.5707\n",
      "17/66 [======>.......................] - ETA: 25:34 - loss: 41.0135\t all loss: 39.0919, box_loss: 31.7810, obj_loss: 2.8293, cla_loss: 4.4815\n",
      "18/66 [=======>......................] - ETA: 25:08 - loss: 40.9067\t all loss: 25.2963, box_loss: 20.1303, obj_loss: 2.0535, cla_loss: 3.1126\n",
      "19/66 [=======>......................] - ETA: 24:41 - loss: 40.0851\t all loss: 23.1856, box_loss: 17.9046, obj_loss: 2.0320, cla_loss: 3.2490\n",
      "20/66 [========>.....................] - ETA: 24:13 - loss: 39.2402\t all loss: 20.5224, box_loss: 15.2464, obj_loss: 1.9068, cla_loss: 3.3692\n",
      "21/66 [========>.....................] - ETA: 23:45 - loss: 38.3488\t all loss: 25.6173, box_loss: 19.9686, obj_loss: 2.1524, cla_loss: 3.4963\n",
      "22/66 [=========>....................] - ETA: 23:16 - loss: 37.7701\t all loss: 27.7349, box_loss: 21.2690, obj_loss: 2.4253, cla_loss: 4.0406\n",
      "23/66 [=========>....................] - ETA: 22:47 - loss: 37.3338\t all loss: 24.4172, box_loss: 18.5539, obj_loss: 2.2260, cla_loss: 3.6373\n",
      "24/66 [=========>....................] - ETA: 22:19 - loss: 36.7956\t all loss: 22.7682, box_loss: 17.7564, obj_loss: 1.8640, cla_loss: 3.1478\n",
      "25/66 [==========>...................] - ETA: 21:48 - loss: 36.2345\t all loss: 30.6105, box_loss: 23.7725, obj_loss: 2.6052, cla_loss: 4.2328\n",
      "26/66 [==========>...................] - ETA: 21:18 - loss: 36.0182\t all loss: 28.8658, box_loss: 22.2606, obj_loss: 2.4316, cla_loss: 4.1736\n",
      "27/66 [===========>..................] - ETA: 20:48 - loss: 35.7533\t all loss: 24.2460, box_loss: 17.7263, obj_loss: 2.4680, cla_loss: 4.0517\n",
      "28/66 [===========>..................] - ETA: 20:18 - loss: 35.3423\t all loss: 30.4512, box_loss: 23.0365, obj_loss: 2.6541, cla_loss: 4.7606\n",
      "29/66 [============>.................] - ETA: 19:48 - loss: 35.1737\t all loss: 24.8616, box_loss: 18.1977, obj_loss: 2.3580, cla_loss: 4.3059\n",
      "30/66 [============>.................] - ETA: 19:17 - loss: 34.8299\t all loss: 23.5376, box_loss: 17.3598, obj_loss: 2.2213, cla_loss: 3.9565\n",
      "31/66 [=============>................] - ETA: 18:47 - loss: 34.4657\t all loss: 19.3194, box_loss: 13.9395, obj_loss: 2.0082, cla_loss: 3.3716\n",
      "32/66 [=============>................] - ETA: 18:16 - loss: 33.9923\t all loss: 26.4985, box_loss: 19.8119, obj_loss: 2.3684, cla_loss: 4.3183\n",
      "33/66 [==============>...............] - ETA: 17:45 - loss: 33.7653\t all loss: 17.8004, box_loss: 12.8566, obj_loss: 1.7669, cla_loss: 3.1769\n",
      "34/66 [==============>...............] - ETA: 17:14 - loss: 33.2957\t all loss: 24.5901, box_loss: 18.3810, obj_loss: 2.2930, cla_loss: 3.9162\n",
      "35/66 [==============>...............] - ETA: 16:42 - loss: 33.0470\t all loss: 27.7111, box_loss: 21.3174, obj_loss: 2.3243, cla_loss: 4.0695\n",
      "36/66 [===============>..............] - ETA: 16:11 - loss: 32.8988\t all loss: 22.2825, box_loss: 16.3438, obj_loss: 2.2172, cla_loss: 3.7216\n",
      "37/66 [===============>..............] - ETA: 15:39 - loss: 32.6118\t all loss: 21.2637, box_loss: 15.6711, obj_loss: 1.9759, cla_loss: 3.6168\n",
      "38/66 [================>.............] - ETA: 15:08 - loss: 32.3132\t all loss: 26.2733, box_loss: 19.5186, obj_loss: 2.4254, cla_loss: 4.3292\n",
      "39/66 [================>.............] - ETA: 14:36 - loss: 32.1583\t all loss: 22.7744, box_loss: 17.2939, obj_loss: 2.1493, cla_loss: 3.3312\n",
      "40/66 [=================>............] - ETA: 14:05 - loss: 31.9237\t all loss: 30.6438, box_loss: 22.8593, obj_loss: 2.7642, cla_loss: 5.0203\n",
      "41/66 [=================>............] - ETA: 13:34 - loss: 31.8925\t all loss: 26.1563, box_loss: 19.8172, obj_loss: 2.3918, cla_loss: 3.9473\n",
      "42/66 [==================>...........] - ETA: 13:02 - loss: 31.7559\t all loss: 22.9385, box_loss: 17.1540, obj_loss: 2.1352, cla_loss: 3.6493\n",
      "43/66 [==================>...........] - ETA: 12:30 - loss: 31.5509\t all loss: 19.9693, box_loss: 14.8562, obj_loss: 1.9924, cla_loss: 3.1207\n",
      "44/66 [===================>..........] - ETA: 11:58 - loss: 31.2877\t all loss: 22.4954, box_loss: 16.5871, obj_loss: 2.2434, cla_loss: 3.6649\n",
      "45/66 [===================>..........] - ETA: 11:26 - loss: 31.0923\t all loss: 14.5931, box_loss: 10.3288, obj_loss: 1.6027, cla_loss: 2.6616\n",
      "46/66 [===================>..........] - ETA: 10:54 - loss: 30.7336\t all loss: 31.1157, box_loss: 23.3854, obj_loss: 2.7961, cla_loss: 4.9342\n",
      "47/66 [====================>.........] - ETA: 10:21 - loss: 30.7417\t all loss: 29.3156, box_loss: 21.4063, obj_loss: 2.5766, cla_loss: 5.3327\n",
      "48/66 [====================>.........] - ETA: 9:49 - loss: 30.7120 \t all loss: 22.0021, box_loss: 16.4168, obj_loss: 1.9970, cla_loss: 3.5884\n",
      "49/66 [=====================>........] - ETA: 9:16 - loss: 30.5343\t all loss: 21.1600, box_loss: 15.4685, obj_loss: 2.1080, cla_loss: 3.5835\n",
      "50/66 [=====================>........] - ETA: 8:44 - loss: 30.3468\t all loss: 17.7960, box_loss: 12.7975, obj_loss: 1.8271, cla_loss: 3.1713\n",
      "51/66 [======================>.......] - ETA: 8:11 - loss: 30.1007\t all loss: 22.8804, box_loss: 16.9537, obj_loss: 2.1513, cla_loss: 3.7754\n",
      "52/66 [======================>.......] - ETA: 7:39 - loss: 29.9618\t all loss: 24.2691, box_loss: 18.2068, obj_loss: 2.3090, cla_loss: 3.7533\n",
      "53/66 [=======================>......] - ETA: 7:06 - loss: 29.8544\t all loss: 23.2146, box_loss: 17.0351, obj_loss: 2.1965, cla_loss: 3.9829\n",
      "54/66 [=======================>......] - ETA: 6:33 - loss: 29.7315\t all loss: 19.1081, box_loss: 13.9473, obj_loss: 2.0231, cla_loss: 3.1377\n",
      "55/66 [========================>.....] - ETA: 6:01 - loss: 29.5383\t all loss: 22.7941, box_loss: 17.0664, obj_loss: 2.1523, cla_loss: 3.5754\n"
     ]
    },
    {
     "name": "stdout",
     "output_type": "stream",
     "text": [
      "56/66 [========================>.....] - ETA: 5:28 - loss: 29.4179\t all loss: 33.0634, box_loss: 24.7274, obj_loss: 2.8571, cla_loss: 5.4789\n",
      "57/66 [========================>.....] - ETA: 4:55 - loss: 29.4818\t all loss: 18.9483, box_loss: 14.2300, obj_loss: 1.7921, cla_loss: 2.9262\n",
      "58/66 [=========================>....] - ETA: 4:22 - loss: 29.3002\t all loss: 18.5776, box_loss: 14.2928, obj_loss: 1.7743, cla_loss: 2.5105\n",
      "59/66 [=========================>....] - ETA: 3:50 - loss: 29.1185\t all loss: 25.8377, box_loss: 19.4383, obj_loss: 2.3412, cla_loss: 4.0582\n",
      "60/66 [==========================>...] - ETA: 3:17 - loss: 29.0638\t all loss: 22.7223, box_loss: 16.8089, obj_loss: 2.1842, cla_loss: 3.7292\n",
      "61/66 [==========================>...] - ETA: 2:44 - loss: 28.9598\t all loss: 26.2772, box_loss: 20.1312, obj_loss: 2.3253, cla_loss: 3.8207\n",
      "62/66 [===========================>..] - ETA: 2:11 - loss: 28.9166\t all loss: 23.7781, box_loss: 18.2529, obj_loss: 2.0496, cla_loss: 3.4755\n",
      "63/66 [===========================>..] - ETA: 1:38 - loss: 28.8350\t all loss: 27.8189, box_loss: 20.4759, obj_loss: 2.6163, cla_loss: 4.7267\n",
      "64/66 [============================>.] - ETA: 1:05 - loss: 28.8191\t all loss: 16.3789, box_loss: 11.9877, obj_loss: 1.6609, cla_loss: 2.7303\n",
      "65/66 [============================>.] - ETA: 32s - loss: 28.6277 \t all loss: 27.3055, box_loss: 20.2450, obj_loss: 2.5559, cla_loss: 4.5046\n",
      "66/66 [==============================] - ETA: 0s - loss: 28.6077 \t all loss: 38.0763, box_loss: 32.6465, obj_loss: 1.5667, cla_loss: 3.8631\n",
      "\t all loss: 80.2851, box_loss: 71.4926, obj_loss: 2.8000, cla_loss: 5.9925\n",
      "\t all loss: 67.3449, box_loss: 59.7155, obj_loss: 2.3000, cla_loss: 5.3294\n",
      "\t all loss: 45.4262, box_loss: 38.6962, obj_loss: 1.8000, cla_loss: 4.9301\n",
      "\t all loss: 55.1781, box_loss: 47.2157, obj_loss: 2.1000, cla_loss: 5.8623\n",
      "\t all loss: 64.8331, box_loss: 58.1031, obj_loss: 2.3333, cla_loss: 4.3967\n",
      "\t all loss: 54.9562, box_loss: 47.5258, obj_loss: 2.2333, cla_loss: 5.1970\n",
      "\t all loss: 66.8072, box_loss: 58.3127, obj_loss: 2.3667, cla_loss: 6.1278\n",
      "\t all loss: 56.7623, box_loss: 49.4679, obj_loss: 2.1000, cla_loss: 5.1945\n",
      "\t all loss: 68.6442, box_loss: 60.7489, obj_loss: 2.4333, cla_loss: 5.4620\n",
      "\t all loss: 84.2644, box_loss: 75.1367, obj_loss: 2.6000, cla_loss: 6.5277\n",
      "\t all loss: 61.4856, box_loss: 54.3213, obj_loss: 2.2333, cla_loss: 4.9310\n",
      "\t all loss: 74.0022, box_loss: 66.1760, obj_loss: 2.3667, cla_loss: 5.4595\n",
      "\t all loss: 61.2835, box_loss: 53.0552, obj_loss: 2.2333, cla_loss: 5.9950\n",
      "\t all loss: 86.2470, box_loss: 76.5208, obj_loss: 2.8000, cla_loss: 6.9262\n",
      "\t all loss: 70.8628, box_loss: 61.8722, obj_loss: 2.6000, cla_loss: 6.3906\n",
      "\t all loss: 51.9778, box_loss: 45.3476, obj_loss: 1.8333, cla_loss: 4.7969\n",
      "\t all loss: 47.3082, box_loss: 40.3453, obj_loss: 2.0333, cla_loss: 4.9296\n",
      "\t all loss: 66.1608, box_loss: 58.5983, obj_loss: 2.5000, cla_loss: 5.0625\n",
      "\t all loss: 40.5255, box_loss: 34.8286, obj_loss: 1.7000, cla_loss: 3.9969\n",
      "\t all loss: 54.8919, box_loss: 46.9963, obj_loss: 2.1667, cla_loss: 5.7289\n",
      "\t all loss: 51.3072, box_loss: 44.8773, obj_loss: 2.0333, cla_loss: 4.3966\n",
      "\t all loss: 58.8416, box_loss: 51.1157, obj_loss: 2.2667, cla_loss: 5.4593\n",
      "\t all loss: 54.6373, box_loss: 48.3395, obj_loss: 1.9000, cla_loss: 4.3979\n",
      "\t all loss: 67.3967, box_loss: 59.3027, obj_loss: 2.3667, cla_loss: 5.7273\n",
      "\t all loss: 67.7255, box_loss: 60.2950, obj_loss: 2.5000, cla_loss: 4.9305\n",
      "\t all loss: 39.0439, box_loss: 33.5129, obj_loss: 1.8000, cla_loss: 3.7310\n",
      "\t all loss: 53.4409, box_loss: 46.8124, obj_loss: 1.9667, cla_loss: 4.6618\n",
      "\t all loss: 50.9312, box_loss: 44.4364, obj_loss: 1.8333, cla_loss: 4.6614\n",
      "\t all loss: 61.1032, box_loss: 53.4406, obj_loss: 2.0667, cla_loss: 5.5960\n",
      "\t all loss: 90.4203, box_loss: 80.9566, obj_loss: 3.0667, cla_loss: 6.3970\n",
      "\t all loss: 64.7750, box_loss: 57.8444, obj_loss: 2.4000, cla_loss: 4.5306\n",
      "\t all loss: 81.9761, box_loss: 73.3835, obj_loss: 2.8667, cla_loss: 5.7259\n",
      "\t all loss: 55.5911, box_loss: 47.8941, obj_loss: 1.9667, cla_loss: 5.7304\n",
      "\t all loss: 48.3731, box_loss: 41.2433, obj_loss: 1.9333, cla_loss: 5.1964\n",
      "\t all loss: 83.2641, box_loss: 73.8377, obj_loss: 2.7667, cla_loss: 6.6597\n",
      "\t all loss: 44.6007, box_loss: 39.2685, obj_loss: 1.8667, cla_loss: 3.4655\n",
      "\t all loss: 71.2773, box_loss: 64.0481, obj_loss: 2.5667, cla_loss: 4.6625\n",
      "\t all loss: 51.1661, box_loss: 44.1715, obj_loss: 1.9333, cla_loss: 5.0612\n",
      "\t all loss: 53.0980, box_loss: 47.0349, obj_loss: 1.9333, cla_loss: 4.1298\n",
      "\t all loss: 61.5156, box_loss: 54.2860, obj_loss: 2.0333, cla_loss: 5.1963\n",
      "\t all loss: 114.6017, box_loss: 102.3771, obj_loss: 3.4333, cla_loss: 8.7913\n",
      "\t all loss: 52.1592, box_loss: 44.9307, obj_loss: 2.0333, cla_loss: 5.1951\n",
      "\t all loss: 69.8487, box_loss: 61.8530, obj_loss: 2.5333, cla_loss: 5.4623\n",
      "\t all loss: 70.4619, box_loss: 62.3032, obj_loss: 2.4333, cla_loss: 5.7253\n",
      "\t all loss: 41.0511, box_loss: 35.4863, obj_loss: 1.7000, cla_loss: 3.8648\n",
      "\t all loss: 81.7502, box_loss: 72.2596, obj_loss: 2.7000, cla_loss: 6.7906\n",
      "\t all loss: 61.1230, box_loss: 53.4300, obj_loss: 2.2333, cla_loss: 5.4597\n",
      "\t all loss: 60.7665, box_loss: 52.8372, obj_loss: 2.0667, cla_loss: 5.8626\n",
      "\t all loss: 80.9570, box_loss: 70.6285, obj_loss: 2.8667, cla_loss: 7.4618\n",
      "\t all loss: 82.0748, box_loss: 72.2786, obj_loss: 2.7333, cla_loss: 7.0629\n",
      "\t all loss: 78.8804, box_loss: 69.7566, obj_loss: 3.0000, cla_loss: 6.1238\n",
      "\t all loss: 53.3599, box_loss: 46.6637, obj_loss: 1.9000, cla_loss: 4.7962\n",
      "\t all loss: 65.3233, box_loss: 57.1933, obj_loss: 2.5333, cla_loss: 5.5966\n",
      "\t all loss: 65.9117, box_loss: 57.6485, obj_loss: 2.4000, cla_loss: 5.8632\n",
      "\t all loss: 54.1962, box_loss: 46.7325, obj_loss: 2.0000, cla_loss: 5.4638\n",
      "\t all loss: 63.7590, box_loss: 55.4967, obj_loss: 2.4000, cla_loss: 5.8624\n",
      "\t all loss: 56.6843, box_loss: 48.6236, obj_loss: 2.2000, cla_loss: 5.8608\n",
      "\t all loss: 66.2154, box_loss: 58.2212, obj_loss: 2.4000, cla_loss: 5.5942\n",
      "\t all loss: 94.6105, box_loss: 83.2169, obj_loss: 3.0000, cla_loss: 8.3936\n",
      "\t all loss: 70.3054, box_loss: 61.9122, obj_loss: 2.6667, cla_loss: 5.7266\n",
      "\t all loss: 53.6803, box_loss: 46.2173, obj_loss: 2.0000, cla_loss: 5.4630\n",
      "\t all loss: 57.5662, box_loss: 50.2704, obj_loss: 2.1000, cla_loss: 5.1958\n",
      "\t all loss: 82.5967, box_loss: 71.8357, obj_loss: 2.9000, cla_loss: 7.8610\n",
      "\t all loss: 68.5247, box_loss: 61.6983, obj_loss: 2.4333, cla_loss: 4.3930\n",
      "\t all loss: 48.9423, box_loss: 42.9780, obj_loss: 1.9667, cla_loss: 3.9976\n",
      "66/66 [==============================] - 2432s 37s/step - loss: 28.6077 - val_loss: 63.6842\n",
      "Epoch 2/2\n",
      "\t all loss: 26.3291, box_loss: 19.9591, obj_loss: 2.5100, cla_loss: 3.8600\n",
      " 1/66 [..............................] - ETA: 0s - loss: 26.3291\t all loss: 22.7922, box_loss: 16.9500, obj_loss: 2.2371, cla_loss: 3.6051\n",
      " 2/66 [..............................] - ETA: 17:50 - loss: 24.5607\t all loss: 28.6129, box_loss: 21.1323, obj_loss: 2.8200, cla_loss: 4.6607\n",
      " 3/66 [>.............................] - ETA: 23:32 - loss: 25.9114\t all loss: 22.2728, box_loss: 16.6661, obj_loss: 2.0944, cla_loss: 3.5124\n",
      " 4/66 [>.............................] - ETA: 25:59 - loss: 25.0018\t all loss: 24.6245, box_loss: 18.3432, obj_loss: 2.4124, cla_loss: 3.8689\n",
      " 5/66 [=>............................] - ETA: 27:11 - loss: 24.9263\t all loss: 20.8676, box_loss: 15.4643, obj_loss: 2.0170, cla_loss: 3.3862\n",
      " 6/66 [=>............................] - ETA: 27:52 - loss: 24.2499\t all loss: 15.4136, box_loss: 11.4079, obj_loss: 1.6463, cla_loss: 2.3594\n",
      " 7/66 [==>...........................] - ETA: 28:10 - loss: 22.9875\t all loss: 31.9845, box_loss: 23.8090, obj_loss: 2.8063, cla_loss: 5.3692\n",
      " 8/66 [==>...........................] - ETA: 28:17 - loss: 24.1122\t all loss: 23.9245, box_loss: 17.9277, obj_loss: 2.2696, cla_loss: 3.7273\n",
      " 9/66 [===>..........................] - ETA: 28:09 - loss: 24.0913\t all loss: 28.0015, box_loss: 20.6381, obj_loss: 2.6199, cla_loss: 4.7435\n",
      "10/66 [===>..........................] - ETA: 28:02 - loss: 24.4823\t all loss: 27.5800, box_loss: 21.1285, obj_loss: 2.5106, cla_loss: 3.9409\n",
      "11/66 [====>.........................] - ETA: 27:48 - loss: 24.7639\t all loss: 22.8943, box_loss: 17.9011, obj_loss: 2.0320, cla_loss: 2.9612\n"
     ]
    },
    {
     "name": "stdout",
     "output_type": "stream",
     "text": [
      "12/66 [====>.........................] - ETA: 27:31 - loss: 24.6081\t all loss: 18.9870, box_loss: 13.9198, obj_loss: 1.9035, cla_loss: 3.1637\n",
      "13/66 [====>.........................] - ETA: 27:15 - loss: 24.1757\t all loss: 25.4276, box_loss: 19.0266, obj_loss: 2.4125, cla_loss: 3.9885\n",
      "14/66 [=====>........................] - ETA: 26:51 - loss: 24.2652\t all loss: 35.8446, box_loss: 27.2944, obj_loss: 3.3010, cla_loss: 5.2492\n",
      "15/66 [=====>........................] - ETA: 26:29 - loss: 25.0371\t all loss: 23.5054, box_loss: 17.2943, obj_loss: 2.2383, cla_loss: 3.9728\n",
      "16/66 [======>.......................] - ETA: 26:05 - loss: 24.9414\t all loss: 17.5693, box_loss: 12.4343, obj_loss: 1.9295, cla_loss: 3.2055\n",
      "17/66 [======>.......................] - ETA: 25:40 - loss: 24.5077\t all loss: 18.5979, box_loss: 13.6445, obj_loss: 1.8372, cla_loss: 3.1163\n",
      "18/66 [=======>......................] - ETA: 25:15 - loss: 24.1794\t all loss: 25.2987, box_loss: 18.7084, obj_loss: 2.7080, cla_loss: 3.8823\n",
      "19/66 [=======>......................] - ETA: 24:48 - loss: 24.2383\t all loss: 23.5039, box_loss: 17.5574, obj_loss: 2.3723, cla_loss: 3.5742\n",
      "20/66 [========>.....................] - ETA: 24:21 - loss: 24.2016\t all loss: 23.1431, box_loss: 17.3190, obj_loss: 2.3204, cla_loss: 3.5037\n",
      "21/66 [========>.....................] - ETA: 23:52 - loss: 24.1512\t all loss: 24.6776, box_loss: 18.7542, obj_loss: 2.3982, cla_loss: 3.5251\n",
      "22/66 [=========>....................] - ETA: 23:23 - loss: 24.1751\t all loss: 20.8001, box_loss: 15.5089, obj_loss: 2.0789, cla_loss: 3.2123\n",
      "23/66 [=========>....................] - ETA: 22:53 - loss: 24.0284\t all loss: 18.8236, box_loss: 13.9718, obj_loss: 1.7548, cla_loss: 3.0969\n",
      "24/66 [=========>....................] - ETA: 22:24 - loss: 23.8115\t all loss: 24.3828, box_loss: 17.7532, obj_loss: 2.3689, cla_loss: 4.2607\n",
      "25/66 [==========>...................] - ETA: 21:54 - loss: 23.8344\t all loss: 23.2306, box_loss: 17.7849, obj_loss: 2.1853, cla_loss: 3.2604\n",
      "26/66 [==========>...................] - ETA: 21:25 - loss: 23.8111\t all loss: 18.4828, box_loss: 14.0602, obj_loss: 1.9549, cla_loss: 2.4677\n",
      "27/66 [===========>..................] - ETA: 20:55 - loss: 23.6138\t all loss: 20.9978, box_loss: 16.0969, obj_loss: 2.0097, cla_loss: 2.8912\n",
      "28/66 [===========>..................] - ETA: 20:24 - loss: 23.5204\t all loss: 19.0438, box_loss: 13.7972, obj_loss: 2.0065, cla_loss: 3.2400\n",
      "29/66 [============>.................] - ETA: 19:54 - loss: 23.3660\t all loss: 24.1204, box_loss: 17.7919, obj_loss: 2.3620, cla_loss: 3.9665\n",
      "30/66 [============>.................] - ETA: 19:24 - loss: 23.3911\t all loss: 21.2549, box_loss: 16.0978, obj_loss: 2.0702, cla_loss: 3.0869\n",
      "31/66 [=============>................] - ETA: 18:53 - loss: 23.3222\t all loss: 15.7503, box_loss: 11.2775, obj_loss: 1.6533, cla_loss: 2.8195\n",
      "32/66 [=============>................] - ETA: 18:22 - loss: 23.0856\t all loss: 20.6759, box_loss: 15.2367, obj_loss: 2.0698, cla_loss: 3.3694\n",
      "33/66 [==============>...............] - ETA: 17:51 - loss: 23.0126\t all loss: 20.2092, box_loss: 15.6758, obj_loss: 1.8690, cla_loss: 2.6644\n",
      "34/66 [==============>...............] - ETA: 17:19 - loss: 22.9301\t all loss: 24.8283, box_loss: 18.9632, obj_loss: 2.3135, cla_loss: 3.5515\n",
      "35/66 [==============>...............] - ETA: 16:48 - loss: 22.9844\t all loss: 23.9644, box_loss: 17.3138, obj_loss: 2.2810, cla_loss: 4.3695\n",
      "36/66 [===============>..............] - ETA: 16:16 - loss: 23.0116\t all loss: 18.6871, box_loss: 13.9003, obj_loss: 1.8416, cla_loss: 2.9452\n",
      "37/66 [===============>..............] - ETA: 15:44 - loss: 22.8947\t all loss: 23.7547, box_loss: 17.5580, obj_loss: 2.2962, cla_loss: 3.9006\n",
      "38/66 [================>.............] - ETA: 15:12 - loss: 22.9173\t all loss: 16.2163, box_loss: 11.8167, obj_loss: 1.6229, cla_loss: 2.7767\n",
      "39/66 [================>.............] - ETA: 14:40 - loss: 22.7455\t all loss: 23.9004, box_loss: 17.9384, obj_loss: 2.2337, cla_loss: 3.7283\n",
      "40/66 [=================>............] - ETA: 14:08 - loss: 22.7744\t all loss: 19.5232, box_loss: 14.9145, obj_loss: 2.1032, cla_loss: 2.5055\n",
      "41/66 [=================>............] - ETA: 13:36 - loss: 22.6951\t all loss: 25.9949, box_loss: 19.0872, obj_loss: 2.5349, cla_loss: 4.3728\n",
      "42/66 [==================>...........] - ETA: 13:04 - loss: 22.7737\t all loss: 28.6659, box_loss: 21.5800, obj_loss: 2.8490, cla_loss: 4.2368\n",
      "43/66 [==================>...........] - ETA: 12:31 - loss: 22.9107\t all loss: 20.4789, box_loss: 15.5005, obj_loss: 1.9755, cla_loss: 3.0029\n",
      "44/66 [===================>..........] - ETA: 11:59 - loss: 22.8554\t all loss: 15.8353, box_loss: 11.2787, obj_loss: 1.7962, cla_loss: 2.7605\n",
      "45/66 [===================>..........] - ETA: 11:27 - loss: 22.6994\t all loss: 22.4447, box_loss: 16.9647, obj_loss: 2.1102, cla_loss: 3.3698\n",
      "46/66 [===================>..........] - ETA: 10:54 - loss: 22.6939\t all loss: 32.6264, box_loss: 24.5703, obj_loss: 2.9838, cla_loss: 5.0722\n",
      "47/66 [====================>.........] - ETA: 10:22 - loss: 22.9052\t all loss: 25.1896, box_loss: 18.5133, obj_loss: 2.4503, cla_loss: 4.2261\n",
      "48/66 [====================>.........] - ETA: 9:50 - loss: 22.9528 \t all loss: 26.5004, box_loss: 19.8398, obj_loss: 2.5401, cla_loss: 4.1205\n",
      "49/66 [=====================>........] - ETA: 9:17 - loss: 23.0252\t all loss: 18.9014, box_loss: 14.0788, obj_loss: 1.8091, cla_loss: 3.0134\n",
      "50/66 [=====================>........] - ETA: 8:44 - loss: 22.9427\t all loss: 22.2919, box_loss: 16.2628, obj_loss: 2.3063, cla_loss: 3.7228\n",
      "51/66 [======================>.......] - ETA: 8:12 - loss: 22.9300\t all loss: 17.0500, box_loss: 12.5825, obj_loss: 1.7056, cla_loss: 2.7619\n",
      "52/66 [======================>.......] - ETA: 7:39 - loss: 22.8169\t all loss: 31.0528, box_loss: 22.9782, obj_loss: 3.0508, cla_loss: 5.0238\n",
      "53/66 [=======================>......] - ETA: 7:07 - loss: 22.9723\t all loss: 25.8322, box_loss: 19.4961, obj_loss: 2.4202, cla_loss: 3.9159\n",
      "54/66 [=======================>......] - ETA: 6:34 - loss: 23.0253\t all loss: 21.1698, box_loss: 16.1260, obj_loss: 2.0217, cla_loss: 3.0220\n",
      "55/66 [========================>.....] - ETA: 6:01 - loss: 22.9915\t all loss: 24.7222, box_loss: 18.7962, obj_loss: 2.1918, cla_loss: 3.7342\n",
      "56/66 [========================>.....] - ETA: 5:28 - loss: 23.0224\t all loss: 26.0106, box_loss: 19.8337, obj_loss: 2.3431, cla_loss: 3.8339\n",
      "57/66 [========================>.....] - ETA: 4:56 - loss: 23.0748\t all loss: 25.4332, box_loss: 18.9766, obj_loss: 2.3918, cla_loss: 4.0648\n",
      "58/66 [=========================>....] - ETA: 4:23 - loss: 23.1155\t all loss: 25.9767, box_loss: 19.6197, obj_loss: 2.4368, cla_loss: 3.9202\n",
      "59/66 [=========================>....] - ETA: 3:50 - loss: 23.1640\t all loss: 20.6768, box_loss: 15.4670, obj_loss: 1.9481, cla_loss: 3.2617\n",
      "60/66 [==========================>...] - ETA: 3:17 - loss: 23.1225\t all loss: 20.7126, box_loss: 15.2350, obj_loss: 2.0070, cla_loss: 3.4706\n",
      "61/66 [==========================>...] - ETA: 2:44 - loss: 23.0830\t all loss: 18.4278, box_loss: 13.3564, obj_loss: 1.9254, cla_loss: 3.1459\n",
      "62/66 [===========================>..] - ETA: 2:11 - loss: 23.0080\t all loss: 26.0552, box_loss: 19.2237, obj_loss: 2.5400, cla_loss: 4.2916\n",
      "63/66 [===========================>..] - ETA: 1:38 - loss: 23.0563\t all loss: 19.8019, box_loss: 14.3645, obj_loss: 1.9335, cla_loss: 3.5038\n",
      "64/66 [============================>.] - ETA: 1:06 - loss: 23.0055\t all loss: 22.4659, box_loss: 16.7081, obj_loss: 2.1969, cla_loss: 3.5609\n",
      "65/66 [============================>.] - ETA: 33s - loss: 22.9972 \t all loss: 20.3328, box_loss: 15.3197, obj_loss: 2.0037, cla_loss: 3.0095\n",
      "66/66 [==============================] - ETA: 0s - loss: 22.9568 \t all loss: 32.6273, box_loss: 27.4201, obj_loss: 1.6000, cla_loss: 3.6071\n",
      "\t all loss: 47.0177, box_loss: 38.6851, obj_loss: 2.7999, cla_loss: 5.5327\n",
      "\t all loss: 41.0183, box_loss: 34.0478, obj_loss: 2.2333, cla_loss: 4.7372\n",
      "\t all loss: 34.5126, box_loss: 29.5966, obj_loss: 1.7000, cla_loss: 3.2160\n",
      "\t all loss: 36.1757, box_loss: 30.0401, obj_loss: 1.9000, cla_loss: 4.2356\n",
      "\t all loss: 52.0052, box_loss: 44.1328, obj_loss: 2.6000, cla_loss: 5.2724\n",
      "\t all loss: 41.6762, box_loss: 33.9426, obj_loss: 2.5333, cla_loss: 5.2003\n"
     ]
    },
    {
     "name": "stdout",
     "output_type": "stream",
     "text": [
      "\t all loss: 43.4282, box_loss: 35.9859, obj_loss: 2.4000, cla_loss: 5.0423\n",
      "\t all loss: 36.9783, box_loss: 30.8583, obj_loss: 2.0666, cla_loss: 4.0533\n",
      "\t all loss: 44.3230, box_loss: 36.7578, obj_loss: 2.4333, cla_loss: 5.1319\n",
      "\t all loss: 37.5919, box_loss: 30.0629, obj_loss: 2.3666, cla_loss: 5.1624\n",
      "\t all loss: 37.9444, box_loss: 31.4882, obj_loss: 2.2000, cla_loss: 4.2563\n",
      "\t all loss: 42.3033, box_loss: 35.4222, obj_loss: 2.2333, cla_loss: 4.6478\n",
      "\t all loss: 40.7715, box_loss: 33.7106, obj_loss: 2.2666, cla_loss: 4.7943\n",
      "\t all loss: 53.6467, box_loss: 44.4496, obj_loss: 2.9000, cla_loss: 6.2972\n",
      "\t all loss: 43.6033, box_loss: 35.1110, obj_loss: 2.7333, cla_loss: 5.7590\n",
      "\t all loss: 38.9938, box_loss: 32.8272, obj_loss: 2.0333, cla_loss: 4.1332\n",
      "\t all loss: 36.8511, box_loss: 30.9219, obj_loss: 1.9999, cla_loss: 3.9293\n",
      "\t all loss: 49.7879, box_loss: 42.2234, obj_loss: 2.5666, cla_loss: 4.9979\n",
      "\t all loss: 33.8461, box_loss: 28.0821, obj_loss: 1.8333, cla_loss: 3.9308\n",
      "\t all loss: 38.0650, box_loss: 31.4797, obj_loss: 2.1333, cla_loss: 4.4521\n",
      "\t all loss: 35.6935, box_loss: 29.8318, obj_loss: 1.9666, cla_loss: 3.8951\n",
      "\t all loss: 40.7598, box_loss: 34.4501, obj_loss: 2.0000, cla_loss: 4.3097\n",
      "\t all loss: 36.2971, box_loss: 30.6298, obj_loss: 1.8000, cla_loss: 3.8673\n",
      "\t all loss: 32.4529, box_loss: 27.4541, obj_loss: 1.6333, cla_loss: 3.3655\n",
      "\t all loss: 52.7614, box_loss: 43.6269, obj_loss: 3.2666, cla_loss: 5.8680\n",
      "\t all loss: 39.1369, box_loss: 32.9925, obj_loss: 1.9333, cla_loss: 4.2111\n",
      "\t all loss: 35.3632, box_loss: 29.7037, obj_loss: 1.8666, cla_loss: 3.7929\n",
      "\t all loss: 37.1903, box_loss: 30.6271, obj_loss: 1.9666, cla_loss: 4.5966\n",
      "\t all loss: 38.4512, box_loss: 32.1577, obj_loss: 1.9666, cla_loss: 4.3268\n",
      "\t all loss: 50.9828, box_loss: 42.7403, obj_loss: 2.7333, cla_loss: 5.5092\n",
      "\t all loss: 45.8096, box_loss: 37.9923, obj_loss: 2.8000, cla_loss: 5.0174\n",
      "\t all loss: 43.5363, box_loss: 36.4316, obj_loss: 2.3000, cla_loss: 4.8048\n",
      "\t all loss: 45.2044, box_loss: 37.4436, obj_loss: 2.5666, cla_loss: 5.1942\n",
      "\t all loss: 35.7800, box_loss: 28.9554, obj_loss: 2.1666, cla_loss: 4.6579\n",
      "\t all loss: 42.8410, box_loss: 35.3392, obj_loss: 2.4333, cla_loss: 5.0685\n",
      "\t all loss: 31.7320, box_loss: 26.4741, obj_loss: 1.7333, cla_loss: 3.5246\n",
      "\t all loss: 43.7752, box_loss: 36.7211, obj_loss: 2.3999, cla_loss: 4.6542\n",
      "\t all loss: 38.2808, box_loss: 32.0103, obj_loss: 2.0666, cla_loss: 4.2038\n",
      "\t all loss: 37.9927, box_loss: 31.0708, obj_loss: 2.2333, cla_loss: 4.6886\n",
      "\t all loss: 37.1530, box_loss: 30.9269, obj_loss: 2.0333, cla_loss: 4.1927\n",
      "\t all loss: 64.8722, box_loss: 53.7374, obj_loss: 3.6000, cla_loss: 7.5349\n",
      "\t all loss: 38.9493, box_loss: 32.3379, obj_loss: 2.1000, cla_loss: 4.5115\n",
      "\t all loss: 43.9681, box_loss: 36.2095, obj_loss: 2.4333, cla_loss: 5.3253\n",
      "\t all loss: 45.3127, box_loss: 38.2191, obj_loss: 2.5000, cla_loss: 4.5936\n",
      "\t all loss: 35.7369, box_loss: 29.8026, obj_loss: 2.0000, cla_loss: 3.9342\n",
      "\t all loss: 46.1633, box_loss: 38.6309, obj_loss: 2.4333, cla_loss: 5.0992\n",
      "\t all loss: 40.2876, box_loss: 33.1424, obj_loss: 2.2666, cla_loss: 4.8785\n",
      "\t all loss: 36.1707, box_loss: 29.8859, obj_loss: 2.0666, cla_loss: 4.2183\n",
      "\t all loss: 51.2749, box_loss: 42.3127, obj_loss: 2.9666, cla_loss: 5.9956\n",
      "\t all loss: 49.2276, box_loss: 40.6447, obj_loss: 2.7666, cla_loss: 5.8162\n",
      "\t all loss: 44.2581, box_loss: 37.0628, obj_loss: 2.4333, cla_loss: 4.7620\n",
      "\t all loss: 43.3807, box_loss: 35.8168, obj_loss: 2.5333, cla_loss: 5.0306\n",
      "\t all loss: 44.0324, box_loss: 36.4497, obj_loss: 2.5666, cla_loss: 5.0160\n",
      "\t all loss: 38.1514, box_loss: 31.1828, obj_loss: 2.3333, cla_loss: 4.6353\n",
      "\t all loss: 40.1539, box_loss: 33.0873, obj_loss: 2.2666, cla_loss: 4.7999\n",
      "\t all loss: 42.3419, box_loss: 34.6393, obj_loss: 2.5666, cla_loss: 5.1360\n",
      "\t all loss: 37.3526, box_loss: 30.7660, obj_loss: 2.2333, cla_loss: 4.3533\n",
      "\t all loss: 36.3529, box_loss: 29.8873, obj_loss: 2.1666, cla_loss: 4.2990\n",
      "\t all loss: 51.4990, box_loss: 43.1995, obj_loss: 2.7333, cla_loss: 5.5662\n",
      "\t all loss: 48.0971, box_loss: 40.1496, obj_loss: 2.6333, cla_loss: 5.3143\n",
      "\t all loss: 35.4686, box_loss: 29.3685, obj_loss: 1.9000, cla_loss: 4.2001\n",
      "\t all loss: 44.8094, box_loss: 37.1142, obj_loss: 2.5333, cla_loss: 5.1619\n",
      "\t all loss: 44.8961, box_loss: 37.1023, obj_loss: 2.5666, cla_loss: 5.2272\n",
      "\t all loss: 35.2643, box_loss: 29.5014, obj_loss: 1.8000, cla_loss: 3.9629\n",
      "\t all loss: 39.2958, box_loss: 33.0587, obj_loss: 2.0333, cla_loss: 4.2038\n",
      "66/66 [==============================] - 2442s 37s/step - loss: 22.9568 - val_loss: 41.5406\n"
     ]
    },
    {
     "data": {
      "text/plain": [
       "<tensorflow.python.keras.callbacks.History at 0x7f31f40832e8>"
      ]
     },
     "execution_count": 7,
     "metadata": {},
     "output_type": "execute_result"
    }
   ],
   "source": [
    "batch_size = 30\n",
    "cfg = {\n",
    "    \"batch_size\": batch_size\n",
    "}\n",
    "model = model_creator(cfg)\n",
    "train_dataset = train_data_creator(cfg)\n",
    "valid_dataset = valid_data_creator(cfg)\n",
    "model.fit(train_dataset, epochs=2, \n",
    "          steps_per_epoch=2000 // batch_size,\n",
    "          validation_data=valid_dataset,\n",
    "          validation_steps=2000 // batch_size,\n",
    "          initial_epoch=0)"
   ]
  },
  {
   "cell_type": "code",
   "execution_count": 8,
   "metadata": {},
   "outputs": [],
   "source": [
    "def main(max_epoch):\n",
    "    batch_size = 10\n",
    "    config = {\n",
    "        \"batch_size\": batch_size\n",
    "    }\n",
    "    \n",
    "    est = Estimator.from_keras(model_creator, config=config, workers_per_node=2)\n",
    "    \n",
    "    # callback\n",
    "    model_checkpoint_callback = cck(filepath=\"/tmp/yolov1\", monitor='val_loss', mode='min',\n",
    "                                    save_weights_only=False)\n",
    "    lr_scheduler_callback = LearningRateScheduler(lr_stage=[10, 15, 20], lr_decay=0.1)\n",
    "    callback_list = [model_checkpoint_callback, lr_scheduler_callback]\n",
    "    \n",
    "    history = est.fit(train_data_creator,\n",
    "                    epochs=max_epoch,\n",
    "                    steps_per_epoch=20000 // batch_size,\n",
    "                    validation_data_creator=valid_data_creator,\n",
    "                    validation_steps=2000 // batch_size,\n",
    "                    callbacks = callback_list\n",
    "                     )\n",
    "    \n",
    "    est.save(\"/tmp/yolov1.ckpt\")\n",
    "    est.restore(\"/tmp/yolov1.ckpt\")\n",
    "    stats = est.evaluate(valid_data_creator, steps=2000 // batch_size)\n",
    "    print(stats)\n",
    "    return history"
   ]
  },
  {
   "cell_type": "code",
   "execution_count": 9,
   "metadata": {},
   "outputs": [
    {
     "name": "stdout",
     "output_type": "stream",
     "text": [
      "Initializing orca context\n",
      "Current pyspark location is : /root/anaconda3/envs/zoo-tf2.3/lib/python3.6/site-packages/pyspark/__init__.py\n",
      "Initializing SparkContext for yarn-client mode\n",
      "Start to pack current python env\n",
      "Packing has been completed: /tmp/tmp1ffrgd27/python_env.tar.gz\n",
      "pyspark_submit_args is: --master yarn --deploy-mode client --archives /tmp/tmp1ffrgd27/python_env.tar.gz#python_env --driver-cores 4 --driver-memory 2g --num-executors 4 --executor-cores 2 --executor-memory 32g --driver-class-path /root/anaconda3/envs/zoo-tf2.3/lib/python3.6/site-packages/zoo/share/lib/analytics-zoo-bigdl_0.12.1-spark_2.4.3-0.9.0-SNAPSHOT-jar-with-dependencies.jar:/root/anaconda3/envs/zoo-tf2.3/lib/python3.6/site-packages/bigdl/share/lib/bigdl-0.12.1-jar-with-dependencies.jar pyspark-shell\n",
      "JavaGatewayServer has been successfully launched on executors\n",
      "Start to launch ray on cluster\n",
      "Start to launch ray driver on local\n",
      "Executing command: ray start --address 192.168.1.1:48863 --redis-password 123456 --num-cpus 0 --node-ip-address 192.168.1.2\n"
     ]
    },
    {
     "name": "stderr",
     "output_type": "stream",
     "text": [
      "2020-12-22 09:33:22,484\tWARNING worker.py:792 -- When connecting to an existing cluster, _internal_config must match the cluster's _internal_config.\n"
     ]
    },
    {
     "name": "stdout",
     "output_type": "stream",
     "text": [
      "\n",
      "2020-12-22 09:33:22,387\tINFO scripts.py:429 -- Using IP address 192.168.1.2 for this node.\n",
      "2020-12-22 09:33:22,391\tINFO resource_spec.py:212 -- Starting Ray with 161.13 GiB memory available for workers and up to 69.07 GiB for objects. You can adjust these settings with ray.init(memory=<bytes>, object_store_memory=<bytes>).\n",
      "2020-12-22 09:33:22,391\tWARNING services.py:1470 -- WARNING: The object store is using /tmp instead of /dev/shm because /dev/shm has only 67108864 bytes available. This may slow down performance! You may be able to free up space by deleting files in /dev/shm or terminating any running plasma_store_server processes. If you are inside a Docker container, you may need to pass an argument with the flag '--shm-size' to 'docker run'.\n",
      "2020-12-22 09:33:22,413\tINFO scripts.py:438 -- \n",
      "Started Ray on this node. If you wish to terminate the processes that have been started, run\n",
      "\n",
      "    ray stop\n",
      "\n",
      "\n",
      "{'node_ip_address': '192.168.1.2', 'redis_address': '192.168.1.1:48863', 'object_store_address': '/tmp/ray/session_2020-12-22_04-33-14_439676_188650/sockets/plasma_store', 'raylet_socket_name': '/tmp/ray/session_2020-12-22_04-33-14_439676_188650/sockets/raylet', 'webui_url': 'localhost:8302', 'session_dir': '/tmp/ray/session_2020-12-22_04-33-14_439676_188650'}\n"
     ]
    },
    {
     "ename": "TypeError",
     "evalue": "can't pickle _thread.RLock objects",
     "output_type": "error",
     "traceback": [
      "\u001b[0;31m---------------------------------------------------------------------------\u001b[0m",
      "\u001b[0;31mTypeError\u001b[0m                                 Traceback (most recent call last)",
      "\u001b[0;32m~/anaconda3/envs/zoo-tf2.3/lib/python3.6/site-packages/ray/serialization.py\u001b[0m in \u001b[0;36mserialize\u001b[0;34m(self, value)\u001b[0m\n\u001b[1;32m    376\u001b[0m             \u001b[0;32mexcept\u001b[0m \u001b[0mException\u001b[0m \u001b[0;32mas\u001b[0m \u001b[0me\u001b[0m\u001b[0;34m:\u001b[0m\u001b[0;34m\u001b[0m\u001b[0m\n\u001b[1;32m    377\u001b[0m                 \u001b[0mself\u001b[0m\u001b[0;34m.\u001b[0m\u001b[0mget_and_clear_contained_object_ids\u001b[0m\u001b[0;34m(\u001b[0m\u001b[0;34m)\u001b[0m\u001b[0;34m\u001b[0m\u001b[0m\n\u001b[0;32m--> 378\u001b[0;31m                 \u001b[0;32mraise\u001b[0m \u001b[0me\u001b[0m\u001b[0;34m\u001b[0m\u001b[0m\n\u001b[0m\u001b[1;32m    379\u001b[0m             \u001b[0;32mfinally\u001b[0m\u001b[0;34m:\u001b[0m\u001b[0;34m\u001b[0m\u001b[0m\n\u001b[1;32m    380\u001b[0m                 \u001b[0mself\u001b[0m\u001b[0;34m.\u001b[0m\u001b[0mset_out_of_band_serialization\u001b[0m\u001b[0;34m(\u001b[0m\u001b[0;34m)\u001b[0m\u001b[0;34m\u001b[0m\u001b[0m\n",
      "\u001b[0;32m~/anaconda3/envs/zoo-tf2.3/lib/python3.6/site-packages/ray/serialization.py\u001b[0m in \u001b[0;36mserialize\u001b[0;34m(self, value)\u001b[0m\n\u001b[1;32m    373\u001b[0m                 \u001b[0mself\u001b[0m\u001b[0;34m.\u001b[0m\u001b[0mset_in_band_serialization\u001b[0m\u001b[0;34m(\u001b[0m\u001b[0;34m)\u001b[0m\u001b[0;34m\u001b[0m\u001b[0m\n\u001b[1;32m    374\u001b[0m                 inband = pickle.dumps(\n\u001b[0;32m--> 375\u001b[0;31m                     value, protocol=5, buffer_callback=writer.buffer_callback)\n\u001b[0m\u001b[1;32m    376\u001b[0m             \u001b[0;32mexcept\u001b[0m \u001b[0mException\u001b[0m \u001b[0;32mas\u001b[0m \u001b[0me\u001b[0m\u001b[0;34m:\u001b[0m\u001b[0;34m\u001b[0m\u001b[0m\n\u001b[1;32m    377\u001b[0m                 \u001b[0mself\u001b[0m\u001b[0;34m.\u001b[0m\u001b[0mget_and_clear_contained_object_ids\u001b[0m\u001b[0;34m(\u001b[0m\u001b[0;34m)\u001b[0m\u001b[0;34m\u001b[0m\u001b[0m\n",
      "\u001b[0;32m~/anaconda3/envs/zoo-tf2.3/lib/python3.6/site-packages/ray/cloudpickle/cloudpickle_fast.py\u001b[0m in \u001b[0;36mdumps\u001b[0;34m(obj, protocol, buffer_callback)\u001b[0m\n\u001b[1;32m     70\u001b[0m         cp = CloudPickler(file, protocol=protocol,\n\u001b[1;32m     71\u001b[0m                           buffer_callback=buffer_callback)\n\u001b[0;32m---> 72\u001b[0;31m         \u001b[0mcp\u001b[0m\u001b[0;34m.\u001b[0m\u001b[0mdump\u001b[0m\u001b[0;34m(\u001b[0m\u001b[0mobj\u001b[0m\u001b[0;34m)\u001b[0m\u001b[0;34m\u001b[0m\u001b[0m\n\u001b[0m\u001b[1;32m     73\u001b[0m         \u001b[0;32mreturn\u001b[0m \u001b[0mfile\u001b[0m\u001b[0;34m.\u001b[0m\u001b[0mgetvalue\u001b[0m\u001b[0;34m(\u001b[0m\u001b[0;34m)\u001b[0m\u001b[0;34m\u001b[0m\u001b[0m\n\u001b[1;32m     74\u001b[0m \u001b[0;34m\u001b[0m\u001b[0m\n",
      "\u001b[0;32m~/anaconda3/envs/zoo-tf2.3/lib/python3.6/site-packages/ray/cloudpickle/cloudpickle_fast.py\u001b[0m in \u001b[0;36mdump\u001b[0;34m(self, obj)\u001b[0m\n\u001b[1;32m    615\u001b[0m     \u001b[0;32mdef\u001b[0m \u001b[0mdump\u001b[0m\u001b[0;34m(\u001b[0m\u001b[0mself\u001b[0m\u001b[0;34m,\u001b[0m \u001b[0mobj\u001b[0m\u001b[0;34m)\u001b[0m\u001b[0;34m:\u001b[0m\u001b[0;34m\u001b[0m\u001b[0m\n\u001b[1;32m    616\u001b[0m         \u001b[0;32mtry\u001b[0m\u001b[0;34m:\u001b[0m\u001b[0;34m\u001b[0m\u001b[0m\n\u001b[0;32m--> 617\u001b[0;31m             \u001b[0;32mreturn\u001b[0m \u001b[0mPickler\u001b[0m\u001b[0;34m.\u001b[0m\u001b[0mdump\u001b[0m\u001b[0;34m(\u001b[0m\u001b[0mself\u001b[0m\u001b[0;34m,\u001b[0m \u001b[0mobj\u001b[0m\u001b[0;34m)\u001b[0m\u001b[0;34m\u001b[0m\u001b[0m\n\u001b[0m\u001b[1;32m    618\u001b[0m         \u001b[0;32mexcept\u001b[0m \u001b[0mRuntimeError\u001b[0m \u001b[0;32mas\u001b[0m \u001b[0me\u001b[0m\u001b[0;34m:\u001b[0m\u001b[0;34m\u001b[0m\u001b[0m\n\u001b[1;32m    619\u001b[0m             \u001b[0;32mif\u001b[0m \u001b[0;34m\"recursion\"\u001b[0m \u001b[0;32min\u001b[0m \u001b[0me\u001b[0m\u001b[0;34m.\u001b[0m\u001b[0margs\u001b[0m\u001b[0;34m[\u001b[0m\u001b[0;36m0\u001b[0m\u001b[0;34m]\u001b[0m\u001b[0;34m:\u001b[0m\u001b[0;34m\u001b[0m\u001b[0m\n",
      "\u001b[0;31mTypeError\u001b[0m: can't pickle _thread.RLock objects"
     ]
    },
    {
     "name": "stderr",
     "output_type": "stream",
     "text": [
      "Exception ignored in: 'ray._raylet.prepare_args'\n",
      "Traceback (most recent call last):\n",
      "  File \"/root/anaconda3/envs/zoo-tf2.3/lib/python3.6/site-packages/ray/serialization.py\", line 378, in serialize\n",
      "    raise e\n",
      "  File \"/root/anaconda3/envs/zoo-tf2.3/lib/python3.6/site-packages/ray/serialization.py\", line 375, in serialize\n",
      "    value, protocol=5, buffer_callback=writer.buffer_callback)\n",
      "  File \"/root/anaconda3/envs/zoo-tf2.3/lib/python3.6/site-packages/ray/cloudpickle/cloudpickle_fast.py\", line 72, in dumps\n",
      "    cp.dump(obj)\n",
      "  File \"/root/anaconda3/envs/zoo-tf2.3/lib/python3.6/site-packages/ray/cloudpickle/cloudpickle_fast.py\", line 617, in dump\n",
      "    return Pickler.dump(self, obj)\n",
      "TypeError: can't pickle _thread.RLock objects\n"
     ]
    },
    {
     "ename": "TypeError",
     "evalue": "can't pickle _thread.RLock objects",
     "output_type": "error",
     "traceback": [
      "\u001b[0;31m---------------------------------------------------------------------------\u001b[0m",
      "\u001b[0;31mTypeError\u001b[0m                                 Traceback (most recent call last)",
      "\u001b[0;32m~/anaconda3/envs/zoo-tf2.3/lib/python3.6/site-packages/ray/serialization.py\u001b[0m in \u001b[0;36mserialize\u001b[0;34m(self, value)\u001b[0m\n\u001b[1;32m    376\u001b[0m             \u001b[0;32mexcept\u001b[0m \u001b[0mException\u001b[0m \u001b[0;32mas\u001b[0m \u001b[0me\u001b[0m\u001b[0;34m:\u001b[0m\u001b[0;34m\u001b[0m\u001b[0m\n\u001b[1;32m    377\u001b[0m                 \u001b[0mself\u001b[0m\u001b[0;34m.\u001b[0m\u001b[0mget_and_clear_contained_object_ids\u001b[0m\u001b[0;34m(\u001b[0m\u001b[0;34m)\u001b[0m\u001b[0;34m\u001b[0m\u001b[0m\n\u001b[0;32m--> 378\u001b[0;31m                 \u001b[0;32mraise\u001b[0m \u001b[0me\u001b[0m\u001b[0;34m\u001b[0m\u001b[0m\n\u001b[0m\u001b[1;32m    379\u001b[0m             \u001b[0;32mfinally\u001b[0m\u001b[0;34m:\u001b[0m\u001b[0;34m\u001b[0m\u001b[0m\n\u001b[1;32m    380\u001b[0m                 \u001b[0mself\u001b[0m\u001b[0;34m.\u001b[0m\u001b[0mset_out_of_band_serialization\u001b[0m\u001b[0;34m(\u001b[0m\u001b[0;34m)\u001b[0m\u001b[0;34m\u001b[0m\u001b[0m\n",
      "\u001b[0;32m~/anaconda3/envs/zoo-tf2.3/lib/python3.6/site-packages/ray/serialization.py\u001b[0m in \u001b[0;36mserialize\u001b[0;34m(self, value)\u001b[0m\n\u001b[1;32m    373\u001b[0m                 \u001b[0mself\u001b[0m\u001b[0;34m.\u001b[0m\u001b[0mset_in_band_serialization\u001b[0m\u001b[0;34m(\u001b[0m\u001b[0;34m)\u001b[0m\u001b[0;34m\u001b[0m\u001b[0m\n\u001b[1;32m    374\u001b[0m                 inband = pickle.dumps(\n\u001b[0;32m--> 375\u001b[0;31m                     value, protocol=5, buffer_callback=writer.buffer_callback)\n\u001b[0m\u001b[1;32m    376\u001b[0m             \u001b[0;32mexcept\u001b[0m \u001b[0mException\u001b[0m \u001b[0;32mas\u001b[0m \u001b[0me\u001b[0m\u001b[0;34m:\u001b[0m\u001b[0;34m\u001b[0m\u001b[0m\n\u001b[1;32m    377\u001b[0m                 \u001b[0mself\u001b[0m\u001b[0;34m.\u001b[0m\u001b[0mget_and_clear_contained_object_ids\u001b[0m\u001b[0;34m(\u001b[0m\u001b[0;34m)\u001b[0m\u001b[0;34m\u001b[0m\u001b[0m\n",
      "\u001b[0;32m~/anaconda3/envs/zoo-tf2.3/lib/python3.6/site-packages/ray/cloudpickle/cloudpickle_fast.py\u001b[0m in \u001b[0;36mdumps\u001b[0;34m(obj, protocol, buffer_callback)\u001b[0m\n\u001b[1;32m     70\u001b[0m         cp = CloudPickler(file, protocol=protocol,\n\u001b[1;32m     71\u001b[0m                           buffer_callback=buffer_callback)\n\u001b[0;32m---> 72\u001b[0;31m         \u001b[0mcp\u001b[0m\u001b[0;34m.\u001b[0m\u001b[0mdump\u001b[0m\u001b[0;34m(\u001b[0m\u001b[0mobj\u001b[0m\u001b[0;34m)\u001b[0m\u001b[0;34m\u001b[0m\u001b[0m\n\u001b[0m\u001b[1;32m     73\u001b[0m         \u001b[0;32mreturn\u001b[0m \u001b[0mfile\u001b[0m\u001b[0;34m.\u001b[0m\u001b[0mgetvalue\u001b[0m\u001b[0;34m(\u001b[0m\u001b[0;34m)\u001b[0m\u001b[0;34m\u001b[0m\u001b[0m\n\u001b[1;32m     74\u001b[0m \u001b[0;34m\u001b[0m\u001b[0m\n",
      "\u001b[0;32m~/anaconda3/envs/zoo-tf2.3/lib/python3.6/site-packages/ray/cloudpickle/cloudpickle_fast.py\u001b[0m in \u001b[0;36mdump\u001b[0;34m(self, obj)\u001b[0m\n\u001b[1;32m    615\u001b[0m     \u001b[0;32mdef\u001b[0m \u001b[0mdump\u001b[0m\u001b[0;34m(\u001b[0m\u001b[0mself\u001b[0m\u001b[0;34m,\u001b[0m \u001b[0mobj\u001b[0m\u001b[0;34m)\u001b[0m\u001b[0;34m:\u001b[0m\u001b[0;34m\u001b[0m\u001b[0m\n\u001b[1;32m    616\u001b[0m         \u001b[0;32mtry\u001b[0m\u001b[0;34m:\u001b[0m\u001b[0;34m\u001b[0m\u001b[0m\n\u001b[0;32m--> 617\u001b[0;31m             \u001b[0;32mreturn\u001b[0m \u001b[0mPickler\u001b[0m\u001b[0;34m.\u001b[0m\u001b[0mdump\u001b[0m\u001b[0;34m(\u001b[0m\u001b[0mself\u001b[0m\u001b[0;34m,\u001b[0m \u001b[0mobj\u001b[0m\u001b[0;34m)\u001b[0m\u001b[0;34m\u001b[0m\u001b[0m\n\u001b[0m\u001b[1;32m    618\u001b[0m         \u001b[0;32mexcept\u001b[0m \u001b[0mRuntimeError\u001b[0m \u001b[0;32mas\u001b[0m \u001b[0me\u001b[0m\u001b[0;34m:\u001b[0m\u001b[0;34m\u001b[0m\u001b[0m\n\u001b[1;32m    619\u001b[0m             \u001b[0;32mif\u001b[0m \u001b[0;34m\"recursion\"\u001b[0m \u001b[0;32min\u001b[0m \u001b[0me\u001b[0m\u001b[0;34m.\u001b[0m\u001b[0margs\u001b[0m\u001b[0;34m[\u001b[0m\u001b[0;36m0\u001b[0m\u001b[0;34m]\u001b[0m\u001b[0;34m:\u001b[0m\u001b[0;34m\u001b[0m\u001b[0m\n",
      "\u001b[0;31mTypeError\u001b[0m: can't pickle _thread.RLock objects"
     ]
    },
    {
     "name": "stderr",
     "output_type": "stream",
     "text": [
      "Exception ignored in: 'ray._raylet.prepare_args'\n",
      "Traceback (most recent call last):\n",
      "  File \"/root/anaconda3/envs/zoo-tf2.3/lib/python3.6/site-packages/ray/serialization.py\", line 378, in serialize\n",
      "    raise e\n",
      "  File \"/root/anaconda3/envs/zoo-tf2.3/lib/python3.6/site-packages/ray/serialization.py\", line 375, in serialize\n",
      "    value, protocol=5, buffer_callback=writer.buffer_callback)\n",
      "  File \"/root/anaconda3/envs/zoo-tf2.3/lib/python3.6/site-packages/ray/cloudpickle/cloudpickle_fast.py\", line 72, in dumps\n",
      "    cp.dump(obj)\n",
      "  File \"/root/anaconda3/envs/zoo-tf2.3/lib/python3.6/site-packages/ray/cloudpickle/cloudpickle_fast.py\", line 617, in dump\n",
      "    return Pickler.dump(self, obj)\n",
      "TypeError: can't pickle _thread.RLock objects\n"
     ]
    },
    {
     "ename": "TypeError",
     "evalue": "can't pickle _thread.RLock objects",
     "output_type": "error",
     "traceback": [
      "\u001b[0;31m---------------------------------------------------------------------------\u001b[0m",
      "\u001b[0;31mTypeError\u001b[0m                                 Traceback (most recent call last)",
      "\u001b[0;32m~/anaconda3/envs/zoo-tf2.3/lib/python3.6/site-packages/ray/serialization.py\u001b[0m in \u001b[0;36mserialize\u001b[0;34m(self, value)\u001b[0m\n\u001b[1;32m    376\u001b[0m             \u001b[0;32mexcept\u001b[0m \u001b[0mException\u001b[0m \u001b[0;32mas\u001b[0m \u001b[0me\u001b[0m\u001b[0;34m:\u001b[0m\u001b[0;34m\u001b[0m\u001b[0m\n\u001b[1;32m    377\u001b[0m                 \u001b[0mself\u001b[0m\u001b[0;34m.\u001b[0m\u001b[0mget_and_clear_contained_object_ids\u001b[0m\u001b[0;34m(\u001b[0m\u001b[0;34m)\u001b[0m\u001b[0;34m\u001b[0m\u001b[0m\n\u001b[0;32m--> 378\u001b[0;31m                 \u001b[0;32mraise\u001b[0m \u001b[0me\u001b[0m\u001b[0;34m\u001b[0m\u001b[0m\n\u001b[0m\u001b[1;32m    379\u001b[0m             \u001b[0;32mfinally\u001b[0m\u001b[0;34m:\u001b[0m\u001b[0;34m\u001b[0m\u001b[0m\n\u001b[1;32m    380\u001b[0m                 \u001b[0mself\u001b[0m\u001b[0;34m.\u001b[0m\u001b[0mset_out_of_band_serialization\u001b[0m\u001b[0;34m(\u001b[0m\u001b[0;34m)\u001b[0m\u001b[0;34m\u001b[0m\u001b[0m\n",
      "\u001b[0;32m~/anaconda3/envs/zoo-tf2.3/lib/python3.6/site-packages/ray/serialization.py\u001b[0m in \u001b[0;36mserialize\u001b[0;34m(self, value)\u001b[0m\n\u001b[1;32m    373\u001b[0m                 \u001b[0mself\u001b[0m\u001b[0;34m.\u001b[0m\u001b[0mset_in_band_serialization\u001b[0m\u001b[0;34m(\u001b[0m\u001b[0;34m)\u001b[0m\u001b[0;34m\u001b[0m\u001b[0m\n\u001b[1;32m    374\u001b[0m                 inband = pickle.dumps(\n\u001b[0;32m--> 375\u001b[0;31m                     value, protocol=5, buffer_callback=writer.buffer_callback)\n\u001b[0m\u001b[1;32m    376\u001b[0m             \u001b[0;32mexcept\u001b[0m \u001b[0mException\u001b[0m \u001b[0;32mas\u001b[0m \u001b[0me\u001b[0m\u001b[0;34m:\u001b[0m\u001b[0;34m\u001b[0m\u001b[0m\n\u001b[1;32m    377\u001b[0m                 \u001b[0mself\u001b[0m\u001b[0;34m.\u001b[0m\u001b[0mget_and_clear_contained_object_ids\u001b[0m\u001b[0;34m(\u001b[0m\u001b[0;34m)\u001b[0m\u001b[0;34m\u001b[0m\u001b[0m\n",
      "\u001b[0;32m~/anaconda3/envs/zoo-tf2.3/lib/python3.6/site-packages/ray/cloudpickle/cloudpickle_fast.py\u001b[0m in \u001b[0;36mdumps\u001b[0;34m(obj, protocol, buffer_callback)\u001b[0m\n\u001b[1;32m     70\u001b[0m         cp = CloudPickler(file, protocol=protocol,\n\u001b[1;32m     71\u001b[0m                           buffer_callback=buffer_callback)\n\u001b[0;32m---> 72\u001b[0;31m         \u001b[0mcp\u001b[0m\u001b[0;34m.\u001b[0m\u001b[0mdump\u001b[0m\u001b[0;34m(\u001b[0m\u001b[0mobj\u001b[0m\u001b[0;34m)\u001b[0m\u001b[0;34m\u001b[0m\u001b[0m\n\u001b[0m\u001b[1;32m     73\u001b[0m         \u001b[0;32mreturn\u001b[0m \u001b[0mfile\u001b[0m\u001b[0;34m.\u001b[0m\u001b[0mgetvalue\u001b[0m\u001b[0;34m(\u001b[0m\u001b[0;34m)\u001b[0m\u001b[0;34m\u001b[0m\u001b[0m\n\u001b[1;32m     74\u001b[0m \u001b[0;34m\u001b[0m\u001b[0m\n",
      "\u001b[0;32m~/anaconda3/envs/zoo-tf2.3/lib/python3.6/site-packages/ray/cloudpickle/cloudpickle_fast.py\u001b[0m in \u001b[0;36mdump\u001b[0;34m(self, obj)\u001b[0m\n\u001b[1;32m    615\u001b[0m     \u001b[0;32mdef\u001b[0m \u001b[0mdump\u001b[0m\u001b[0;34m(\u001b[0m\u001b[0mself\u001b[0m\u001b[0;34m,\u001b[0m \u001b[0mobj\u001b[0m\u001b[0;34m)\u001b[0m\u001b[0;34m:\u001b[0m\u001b[0;34m\u001b[0m\u001b[0m\n\u001b[1;32m    616\u001b[0m         \u001b[0;32mtry\u001b[0m\u001b[0;34m:\u001b[0m\u001b[0;34m\u001b[0m\u001b[0m\n\u001b[0;32m--> 617\u001b[0;31m             \u001b[0;32mreturn\u001b[0m \u001b[0mPickler\u001b[0m\u001b[0;34m.\u001b[0m\u001b[0mdump\u001b[0m\u001b[0;34m(\u001b[0m\u001b[0mself\u001b[0m\u001b[0;34m,\u001b[0m \u001b[0mobj\u001b[0m\u001b[0;34m)\u001b[0m\u001b[0;34m\u001b[0m\u001b[0m\n\u001b[0m\u001b[1;32m    618\u001b[0m         \u001b[0;32mexcept\u001b[0m \u001b[0mRuntimeError\u001b[0m \u001b[0;32mas\u001b[0m \u001b[0me\u001b[0m\u001b[0;34m:\u001b[0m\u001b[0;34m\u001b[0m\u001b[0m\n\u001b[1;32m    619\u001b[0m             \u001b[0;32mif\u001b[0m \u001b[0;34m\"recursion\"\u001b[0m \u001b[0;32min\u001b[0m \u001b[0me\u001b[0m\u001b[0;34m.\u001b[0m\u001b[0margs\u001b[0m\u001b[0;34m[\u001b[0m\u001b[0;36m0\u001b[0m\u001b[0;34m]\u001b[0m\u001b[0;34m:\u001b[0m\u001b[0;34m\u001b[0m\u001b[0m\n",
      "\u001b[0;31mTypeError\u001b[0m: can't pickle _thread.RLock objects"
     ]
    },
    {
     "name": "stderr",
     "output_type": "stream",
     "text": [
      "Exception ignored in: 'ray._raylet.prepare_args'\n",
      "Traceback (most recent call last):\n",
      "  File \"/root/anaconda3/envs/zoo-tf2.3/lib/python3.6/site-packages/ray/serialization.py\", line 378, in serialize\n",
      "    raise e\n",
      "  File \"/root/anaconda3/envs/zoo-tf2.3/lib/python3.6/site-packages/ray/serialization.py\", line 375, in serialize\n",
      "    value, protocol=5, buffer_callback=writer.buffer_callback)\n",
      "  File \"/root/anaconda3/envs/zoo-tf2.3/lib/python3.6/site-packages/ray/cloudpickle/cloudpickle_fast.py\", line 72, in dumps\n",
      "    cp.dump(obj)\n",
      "  File \"/root/anaconda3/envs/zoo-tf2.3/lib/python3.6/site-packages/ray/cloudpickle/cloudpickle_fast.py\", line 617, in dump\n",
      "    return Pickler.dump(self, obj)\n",
      "TypeError: can't pickle _thread.RLock objects\n"
     ]
    },
    {
     "ename": "TypeError",
     "evalue": "can't pickle _thread.RLock objects",
     "output_type": "error",
     "traceback": [
      "\u001b[0;31m---------------------------------------------------------------------------\u001b[0m",
      "\u001b[0;31mTypeError\u001b[0m                                 Traceback (most recent call last)",
      "\u001b[0;32m~/anaconda3/envs/zoo-tf2.3/lib/python3.6/site-packages/ray/serialization.py\u001b[0m in \u001b[0;36mserialize\u001b[0;34m(self, value)\u001b[0m\n\u001b[1;32m    376\u001b[0m             \u001b[0;32mexcept\u001b[0m \u001b[0mException\u001b[0m \u001b[0;32mas\u001b[0m \u001b[0me\u001b[0m\u001b[0;34m:\u001b[0m\u001b[0;34m\u001b[0m\u001b[0m\n\u001b[1;32m    377\u001b[0m                 \u001b[0mself\u001b[0m\u001b[0;34m.\u001b[0m\u001b[0mget_and_clear_contained_object_ids\u001b[0m\u001b[0;34m(\u001b[0m\u001b[0;34m)\u001b[0m\u001b[0;34m\u001b[0m\u001b[0m\n\u001b[0;32m--> 378\u001b[0;31m                 \u001b[0;32mraise\u001b[0m \u001b[0me\u001b[0m\u001b[0;34m\u001b[0m\u001b[0m\n\u001b[0m\u001b[1;32m    379\u001b[0m             \u001b[0;32mfinally\u001b[0m\u001b[0;34m:\u001b[0m\u001b[0;34m\u001b[0m\u001b[0m\n\u001b[1;32m    380\u001b[0m                 \u001b[0mself\u001b[0m\u001b[0;34m.\u001b[0m\u001b[0mset_out_of_band_serialization\u001b[0m\u001b[0;34m(\u001b[0m\u001b[0;34m)\u001b[0m\u001b[0;34m\u001b[0m\u001b[0m\n",
      "\u001b[0;32m~/anaconda3/envs/zoo-tf2.3/lib/python3.6/site-packages/ray/serialization.py\u001b[0m in \u001b[0;36mserialize\u001b[0;34m(self, value)\u001b[0m\n\u001b[1;32m    373\u001b[0m                 \u001b[0mself\u001b[0m\u001b[0;34m.\u001b[0m\u001b[0mset_in_band_serialization\u001b[0m\u001b[0;34m(\u001b[0m\u001b[0;34m)\u001b[0m\u001b[0;34m\u001b[0m\u001b[0m\n\u001b[1;32m    374\u001b[0m                 inband = pickle.dumps(\n\u001b[0;32m--> 375\u001b[0;31m                     value, protocol=5, buffer_callback=writer.buffer_callback)\n\u001b[0m\u001b[1;32m    376\u001b[0m             \u001b[0;32mexcept\u001b[0m \u001b[0mException\u001b[0m \u001b[0;32mas\u001b[0m \u001b[0me\u001b[0m\u001b[0;34m:\u001b[0m\u001b[0;34m\u001b[0m\u001b[0m\n\u001b[1;32m    377\u001b[0m                 \u001b[0mself\u001b[0m\u001b[0;34m.\u001b[0m\u001b[0mget_and_clear_contained_object_ids\u001b[0m\u001b[0;34m(\u001b[0m\u001b[0;34m)\u001b[0m\u001b[0;34m\u001b[0m\u001b[0m\n",
      "\u001b[0;32m~/anaconda3/envs/zoo-tf2.3/lib/python3.6/site-packages/ray/cloudpickle/cloudpickle_fast.py\u001b[0m in \u001b[0;36mdumps\u001b[0;34m(obj, protocol, buffer_callback)\u001b[0m\n\u001b[1;32m     70\u001b[0m         cp = CloudPickler(file, protocol=protocol,\n\u001b[1;32m     71\u001b[0m                           buffer_callback=buffer_callback)\n\u001b[0;32m---> 72\u001b[0;31m         \u001b[0mcp\u001b[0m\u001b[0;34m.\u001b[0m\u001b[0mdump\u001b[0m\u001b[0;34m(\u001b[0m\u001b[0mobj\u001b[0m\u001b[0;34m)\u001b[0m\u001b[0;34m\u001b[0m\u001b[0m\n\u001b[0m\u001b[1;32m     73\u001b[0m         \u001b[0;32mreturn\u001b[0m \u001b[0mfile\u001b[0m\u001b[0;34m.\u001b[0m\u001b[0mgetvalue\u001b[0m\u001b[0;34m(\u001b[0m\u001b[0;34m)\u001b[0m\u001b[0;34m\u001b[0m\u001b[0m\n\u001b[1;32m     74\u001b[0m \u001b[0;34m\u001b[0m\u001b[0m\n",
      "\u001b[0;32m~/anaconda3/envs/zoo-tf2.3/lib/python3.6/site-packages/ray/cloudpickle/cloudpickle_fast.py\u001b[0m in \u001b[0;36mdump\u001b[0;34m(self, obj)\u001b[0m\n\u001b[1;32m    615\u001b[0m     \u001b[0;32mdef\u001b[0m \u001b[0mdump\u001b[0m\u001b[0;34m(\u001b[0m\u001b[0mself\u001b[0m\u001b[0;34m,\u001b[0m \u001b[0mobj\u001b[0m\u001b[0;34m)\u001b[0m\u001b[0;34m:\u001b[0m\u001b[0;34m\u001b[0m\u001b[0m\n\u001b[1;32m    616\u001b[0m         \u001b[0;32mtry\u001b[0m\u001b[0;34m:\u001b[0m\u001b[0;34m\u001b[0m\u001b[0m\n\u001b[0;32m--> 617\u001b[0;31m             \u001b[0;32mreturn\u001b[0m \u001b[0mPickler\u001b[0m\u001b[0;34m.\u001b[0m\u001b[0mdump\u001b[0m\u001b[0;34m(\u001b[0m\u001b[0mself\u001b[0m\u001b[0;34m,\u001b[0m \u001b[0mobj\u001b[0m\u001b[0;34m)\u001b[0m\u001b[0;34m\u001b[0m\u001b[0m\n\u001b[0m\u001b[1;32m    618\u001b[0m         \u001b[0;32mexcept\u001b[0m \u001b[0mRuntimeError\u001b[0m \u001b[0;32mas\u001b[0m \u001b[0me\u001b[0m\u001b[0;34m:\u001b[0m\u001b[0;34m\u001b[0m\u001b[0m\n\u001b[1;32m    619\u001b[0m             \u001b[0;32mif\u001b[0m \u001b[0;34m\"recursion\"\u001b[0m \u001b[0;32min\u001b[0m \u001b[0me\u001b[0m\u001b[0;34m.\u001b[0m\u001b[0margs\u001b[0m\u001b[0;34m[\u001b[0m\u001b[0;36m0\u001b[0m\u001b[0;34m]\u001b[0m\u001b[0;34m:\u001b[0m\u001b[0;34m\u001b[0m\u001b[0m\n",
      "\u001b[0;31mTypeError\u001b[0m: can't pickle _thread.RLock objects"
     ]
    },
    {
     "name": "stderr",
     "output_type": "stream",
     "text": [
      "Exception ignored in: 'ray._raylet.prepare_args'\n",
      "Traceback (most recent call last):\n",
      "  File \"/root/anaconda3/envs/zoo-tf2.3/lib/python3.6/site-packages/ray/serialization.py\", line 378, in serialize\n",
      "    raise e\n",
      "  File \"/root/anaconda3/envs/zoo-tf2.3/lib/python3.6/site-packages/ray/serialization.py\", line 375, in serialize\n",
      "    value, protocol=5, buffer_callback=writer.buffer_callback)\n",
      "  File \"/root/anaconda3/envs/zoo-tf2.3/lib/python3.6/site-packages/ray/cloudpickle/cloudpickle_fast.py\", line 72, in dumps\n",
      "    cp.dump(obj)\n",
      "  File \"/root/anaconda3/envs/zoo-tf2.3/lib/python3.6/site-packages/ray/cloudpickle/cloudpickle_fast.py\", line 617, in dump\n",
      "    return Pickler.dump(self, obj)\n",
      "TypeError: can't pickle _thread.RLock objects\n"
     ]
    },
    {
     "ename": "TypeError",
     "evalue": "can't pickle _thread.RLock objects",
     "output_type": "error",
     "traceback": [
      "\u001b[0;31m---------------------------------------------------------------------------\u001b[0m",
      "\u001b[0;31mTypeError\u001b[0m                                 Traceback (most recent call last)",
      "\u001b[0;32m~/anaconda3/envs/zoo-tf2.3/lib/python3.6/site-packages/ray/serialization.py\u001b[0m in \u001b[0;36mserialize\u001b[0;34m(self, value)\u001b[0m\n\u001b[1;32m    376\u001b[0m             \u001b[0;32mexcept\u001b[0m \u001b[0mException\u001b[0m \u001b[0;32mas\u001b[0m \u001b[0me\u001b[0m\u001b[0;34m:\u001b[0m\u001b[0;34m\u001b[0m\u001b[0m\n\u001b[1;32m    377\u001b[0m                 \u001b[0mself\u001b[0m\u001b[0;34m.\u001b[0m\u001b[0mget_and_clear_contained_object_ids\u001b[0m\u001b[0;34m(\u001b[0m\u001b[0;34m)\u001b[0m\u001b[0;34m\u001b[0m\u001b[0m\n\u001b[0;32m--> 378\u001b[0;31m                 \u001b[0;32mraise\u001b[0m \u001b[0me\u001b[0m\u001b[0;34m\u001b[0m\u001b[0m\n\u001b[0m\u001b[1;32m    379\u001b[0m             \u001b[0;32mfinally\u001b[0m\u001b[0;34m:\u001b[0m\u001b[0;34m\u001b[0m\u001b[0m\n\u001b[1;32m    380\u001b[0m                 \u001b[0mself\u001b[0m\u001b[0;34m.\u001b[0m\u001b[0mset_out_of_band_serialization\u001b[0m\u001b[0;34m(\u001b[0m\u001b[0;34m)\u001b[0m\u001b[0;34m\u001b[0m\u001b[0m\n",
      "\u001b[0;32m~/anaconda3/envs/zoo-tf2.3/lib/python3.6/site-packages/ray/serialization.py\u001b[0m in \u001b[0;36mserialize\u001b[0;34m(self, value)\u001b[0m\n\u001b[1;32m    373\u001b[0m                 \u001b[0mself\u001b[0m\u001b[0;34m.\u001b[0m\u001b[0mset_in_band_serialization\u001b[0m\u001b[0;34m(\u001b[0m\u001b[0;34m)\u001b[0m\u001b[0;34m\u001b[0m\u001b[0m\n\u001b[1;32m    374\u001b[0m                 inband = pickle.dumps(\n\u001b[0;32m--> 375\u001b[0;31m                     value, protocol=5, buffer_callback=writer.buffer_callback)\n\u001b[0m\u001b[1;32m    376\u001b[0m             \u001b[0;32mexcept\u001b[0m \u001b[0mException\u001b[0m \u001b[0;32mas\u001b[0m \u001b[0me\u001b[0m\u001b[0;34m:\u001b[0m\u001b[0;34m\u001b[0m\u001b[0m\n\u001b[1;32m    377\u001b[0m                 \u001b[0mself\u001b[0m\u001b[0;34m.\u001b[0m\u001b[0mget_and_clear_contained_object_ids\u001b[0m\u001b[0;34m(\u001b[0m\u001b[0;34m)\u001b[0m\u001b[0;34m\u001b[0m\u001b[0m\n",
      "\u001b[0;32m~/anaconda3/envs/zoo-tf2.3/lib/python3.6/site-packages/ray/cloudpickle/cloudpickle_fast.py\u001b[0m in \u001b[0;36mdumps\u001b[0;34m(obj, protocol, buffer_callback)\u001b[0m\n\u001b[1;32m     70\u001b[0m         cp = CloudPickler(file, protocol=protocol,\n\u001b[1;32m     71\u001b[0m                           buffer_callback=buffer_callback)\n\u001b[0;32m---> 72\u001b[0;31m         \u001b[0mcp\u001b[0m\u001b[0;34m.\u001b[0m\u001b[0mdump\u001b[0m\u001b[0;34m(\u001b[0m\u001b[0mobj\u001b[0m\u001b[0;34m)\u001b[0m\u001b[0;34m\u001b[0m\u001b[0m\n\u001b[0m\u001b[1;32m     73\u001b[0m         \u001b[0;32mreturn\u001b[0m \u001b[0mfile\u001b[0m\u001b[0;34m.\u001b[0m\u001b[0mgetvalue\u001b[0m\u001b[0;34m(\u001b[0m\u001b[0;34m)\u001b[0m\u001b[0;34m\u001b[0m\u001b[0m\n\u001b[1;32m     74\u001b[0m \u001b[0;34m\u001b[0m\u001b[0m\n",
      "\u001b[0;32m~/anaconda3/envs/zoo-tf2.3/lib/python3.6/site-packages/ray/cloudpickle/cloudpickle_fast.py\u001b[0m in \u001b[0;36mdump\u001b[0;34m(self, obj)\u001b[0m\n\u001b[1;32m    615\u001b[0m     \u001b[0;32mdef\u001b[0m \u001b[0mdump\u001b[0m\u001b[0;34m(\u001b[0m\u001b[0mself\u001b[0m\u001b[0;34m,\u001b[0m \u001b[0mobj\u001b[0m\u001b[0;34m)\u001b[0m\u001b[0;34m:\u001b[0m\u001b[0;34m\u001b[0m\u001b[0m\n\u001b[1;32m    616\u001b[0m         \u001b[0;32mtry\u001b[0m\u001b[0;34m:\u001b[0m\u001b[0;34m\u001b[0m\u001b[0m\n\u001b[0;32m--> 617\u001b[0;31m             \u001b[0;32mreturn\u001b[0m \u001b[0mPickler\u001b[0m\u001b[0;34m.\u001b[0m\u001b[0mdump\u001b[0m\u001b[0;34m(\u001b[0m\u001b[0mself\u001b[0m\u001b[0;34m,\u001b[0m \u001b[0mobj\u001b[0m\u001b[0;34m)\u001b[0m\u001b[0;34m\u001b[0m\u001b[0m\n\u001b[0m\u001b[1;32m    618\u001b[0m         \u001b[0;32mexcept\u001b[0m \u001b[0mRuntimeError\u001b[0m \u001b[0;32mas\u001b[0m \u001b[0me\u001b[0m\u001b[0;34m:\u001b[0m\u001b[0;34m\u001b[0m\u001b[0m\n\u001b[1;32m    619\u001b[0m             \u001b[0;32mif\u001b[0m \u001b[0;34m\"recursion\"\u001b[0m \u001b[0;32min\u001b[0m \u001b[0me\u001b[0m\u001b[0;34m.\u001b[0m\u001b[0margs\u001b[0m\u001b[0;34m[\u001b[0m\u001b[0;36m0\u001b[0m\u001b[0;34m]\u001b[0m\u001b[0;34m:\u001b[0m\u001b[0;34m\u001b[0m\u001b[0m\n",
      "\u001b[0;31mTypeError\u001b[0m: can't pickle _thread.RLock objects"
     ]
    },
    {
     "name": "stderr",
     "output_type": "stream",
     "text": [
      "Exception ignored in: 'ray._raylet.prepare_args'\n",
      "Traceback (most recent call last):\n",
      "  File \"/root/anaconda3/envs/zoo-tf2.3/lib/python3.6/site-packages/ray/serialization.py\", line 378, in serialize\n",
      "    raise e\n",
      "  File \"/root/anaconda3/envs/zoo-tf2.3/lib/python3.6/site-packages/ray/serialization.py\", line 375, in serialize\n",
      "    value, protocol=5, buffer_callback=writer.buffer_callback)\n",
      "  File \"/root/anaconda3/envs/zoo-tf2.3/lib/python3.6/site-packages/ray/cloudpickle/cloudpickle_fast.py\", line 72, in dumps\n",
      "    cp.dump(obj)\n",
      "  File \"/root/anaconda3/envs/zoo-tf2.3/lib/python3.6/site-packages/ray/cloudpickle/cloudpickle_fast.py\", line 617, in dump\n",
      "    return Pickler.dump(self, obj)\n",
      "TypeError: can't pickle _thread.RLock objects\n"
     ]
    },
    {
     "ename": "TypeError",
     "evalue": "can't pickle _thread.RLock objects",
     "output_type": "error",
     "traceback": [
      "\u001b[0;31m---------------------------------------------------------------------------\u001b[0m",
      "\u001b[0;31mTypeError\u001b[0m                                 Traceback (most recent call last)",
      "\u001b[0;32m~/anaconda3/envs/zoo-tf2.3/lib/python3.6/site-packages/ray/serialization.py\u001b[0m in \u001b[0;36mserialize\u001b[0;34m(self, value)\u001b[0m\n\u001b[1;32m    376\u001b[0m             \u001b[0;32mexcept\u001b[0m \u001b[0mException\u001b[0m \u001b[0;32mas\u001b[0m \u001b[0me\u001b[0m\u001b[0;34m:\u001b[0m\u001b[0;34m\u001b[0m\u001b[0m\n\u001b[1;32m    377\u001b[0m                 \u001b[0mself\u001b[0m\u001b[0;34m.\u001b[0m\u001b[0mget_and_clear_contained_object_ids\u001b[0m\u001b[0;34m(\u001b[0m\u001b[0;34m)\u001b[0m\u001b[0;34m\u001b[0m\u001b[0m\n\u001b[0;32m--> 378\u001b[0;31m                 \u001b[0;32mraise\u001b[0m \u001b[0me\u001b[0m\u001b[0;34m\u001b[0m\u001b[0m\n\u001b[0m\u001b[1;32m    379\u001b[0m             \u001b[0;32mfinally\u001b[0m\u001b[0;34m:\u001b[0m\u001b[0;34m\u001b[0m\u001b[0m\n\u001b[1;32m    380\u001b[0m                 \u001b[0mself\u001b[0m\u001b[0;34m.\u001b[0m\u001b[0mset_out_of_band_serialization\u001b[0m\u001b[0;34m(\u001b[0m\u001b[0;34m)\u001b[0m\u001b[0;34m\u001b[0m\u001b[0m\n",
      "\u001b[0;32m~/anaconda3/envs/zoo-tf2.3/lib/python3.6/site-packages/ray/serialization.py\u001b[0m in \u001b[0;36mserialize\u001b[0;34m(self, value)\u001b[0m\n\u001b[1;32m    373\u001b[0m                 \u001b[0mself\u001b[0m\u001b[0;34m.\u001b[0m\u001b[0mset_in_band_serialization\u001b[0m\u001b[0;34m(\u001b[0m\u001b[0;34m)\u001b[0m\u001b[0;34m\u001b[0m\u001b[0m\n\u001b[1;32m    374\u001b[0m                 inband = pickle.dumps(\n\u001b[0;32m--> 375\u001b[0;31m                     value, protocol=5, buffer_callback=writer.buffer_callback)\n\u001b[0m\u001b[1;32m    376\u001b[0m             \u001b[0;32mexcept\u001b[0m \u001b[0mException\u001b[0m \u001b[0;32mas\u001b[0m \u001b[0me\u001b[0m\u001b[0;34m:\u001b[0m\u001b[0;34m\u001b[0m\u001b[0m\n\u001b[1;32m    377\u001b[0m                 \u001b[0mself\u001b[0m\u001b[0;34m.\u001b[0m\u001b[0mget_and_clear_contained_object_ids\u001b[0m\u001b[0;34m(\u001b[0m\u001b[0;34m)\u001b[0m\u001b[0;34m\u001b[0m\u001b[0m\n",
      "\u001b[0;32m~/anaconda3/envs/zoo-tf2.3/lib/python3.6/site-packages/ray/cloudpickle/cloudpickle_fast.py\u001b[0m in \u001b[0;36mdumps\u001b[0;34m(obj, protocol, buffer_callback)\u001b[0m\n\u001b[1;32m     70\u001b[0m         cp = CloudPickler(file, protocol=protocol,\n\u001b[1;32m     71\u001b[0m                           buffer_callback=buffer_callback)\n\u001b[0;32m---> 72\u001b[0;31m         \u001b[0mcp\u001b[0m\u001b[0;34m.\u001b[0m\u001b[0mdump\u001b[0m\u001b[0;34m(\u001b[0m\u001b[0mobj\u001b[0m\u001b[0;34m)\u001b[0m\u001b[0;34m\u001b[0m\u001b[0m\n\u001b[0m\u001b[1;32m     73\u001b[0m         \u001b[0;32mreturn\u001b[0m \u001b[0mfile\u001b[0m\u001b[0;34m.\u001b[0m\u001b[0mgetvalue\u001b[0m\u001b[0;34m(\u001b[0m\u001b[0;34m)\u001b[0m\u001b[0;34m\u001b[0m\u001b[0m\n\u001b[1;32m     74\u001b[0m \u001b[0;34m\u001b[0m\u001b[0m\n",
      "\u001b[0;32m~/anaconda3/envs/zoo-tf2.3/lib/python3.6/site-packages/ray/cloudpickle/cloudpickle_fast.py\u001b[0m in \u001b[0;36mdump\u001b[0;34m(self, obj)\u001b[0m\n\u001b[1;32m    615\u001b[0m     \u001b[0;32mdef\u001b[0m \u001b[0mdump\u001b[0m\u001b[0;34m(\u001b[0m\u001b[0mself\u001b[0m\u001b[0;34m,\u001b[0m \u001b[0mobj\u001b[0m\u001b[0;34m)\u001b[0m\u001b[0;34m:\u001b[0m\u001b[0;34m\u001b[0m\u001b[0m\n\u001b[1;32m    616\u001b[0m         \u001b[0;32mtry\u001b[0m\u001b[0;34m:\u001b[0m\u001b[0;34m\u001b[0m\u001b[0m\n\u001b[0;32m--> 617\u001b[0;31m             \u001b[0;32mreturn\u001b[0m \u001b[0mPickler\u001b[0m\u001b[0;34m.\u001b[0m\u001b[0mdump\u001b[0m\u001b[0;34m(\u001b[0m\u001b[0mself\u001b[0m\u001b[0;34m,\u001b[0m \u001b[0mobj\u001b[0m\u001b[0;34m)\u001b[0m\u001b[0;34m\u001b[0m\u001b[0m\n\u001b[0m\u001b[1;32m    618\u001b[0m         \u001b[0;32mexcept\u001b[0m \u001b[0mRuntimeError\u001b[0m \u001b[0;32mas\u001b[0m \u001b[0me\u001b[0m\u001b[0;34m:\u001b[0m\u001b[0;34m\u001b[0m\u001b[0m\n\u001b[1;32m    619\u001b[0m             \u001b[0;32mif\u001b[0m \u001b[0;34m\"recursion\"\u001b[0m \u001b[0;32min\u001b[0m \u001b[0me\u001b[0m\u001b[0;34m.\u001b[0m\u001b[0margs\u001b[0m\u001b[0;34m[\u001b[0m\u001b[0;36m0\u001b[0m\u001b[0;34m]\u001b[0m\u001b[0;34m:\u001b[0m\u001b[0;34m\u001b[0m\u001b[0m\n",
      "\u001b[0;31mTypeError\u001b[0m: can't pickle _thread.RLock objects"
     ]
    },
    {
     "name": "stderr",
     "output_type": "stream",
     "text": [
      "Exception ignored in: 'ray._raylet.prepare_args'\n",
      "Traceback (most recent call last):\n",
      "  File \"/root/anaconda3/envs/zoo-tf2.3/lib/python3.6/site-packages/ray/serialization.py\", line 378, in serialize\n",
      "    raise e\n",
      "  File \"/root/anaconda3/envs/zoo-tf2.3/lib/python3.6/site-packages/ray/serialization.py\", line 375, in serialize\n",
      "    value, protocol=5, buffer_callback=writer.buffer_callback)\n",
      "  File \"/root/anaconda3/envs/zoo-tf2.3/lib/python3.6/site-packages/ray/cloudpickle/cloudpickle_fast.py\", line 72, in dumps\n",
      "    cp.dump(obj)\n",
      "  File \"/root/anaconda3/envs/zoo-tf2.3/lib/python3.6/site-packages/ray/cloudpickle/cloudpickle_fast.py\", line 617, in dump\n",
      "    return Pickler.dump(self, obj)\n",
      "TypeError: can't pickle _thread.RLock objects\n"
     ]
    },
    {
     "ename": "TypeError",
     "evalue": "can't pickle _thread.RLock objects",
     "output_type": "error",
     "traceback": [
      "\u001b[0;31m---------------------------------------------------------------------------\u001b[0m",
      "\u001b[0;31mTypeError\u001b[0m                                 Traceback (most recent call last)",
      "\u001b[0;32m~/anaconda3/envs/zoo-tf2.3/lib/python3.6/site-packages/ray/serialization.py\u001b[0m in \u001b[0;36mserialize\u001b[0;34m(self, value)\u001b[0m\n\u001b[1;32m    376\u001b[0m             \u001b[0;32mexcept\u001b[0m \u001b[0mException\u001b[0m \u001b[0;32mas\u001b[0m \u001b[0me\u001b[0m\u001b[0;34m:\u001b[0m\u001b[0;34m\u001b[0m\u001b[0m\n\u001b[1;32m    377\u001b[0m                 \u001b[0mself\u001b[0m\u001b[0;34m.\u001b[0m\u001b[0mget_and_clear_contained_object_ids\u001b[0m\u001b[0;34m(\u001b[0m\u001b[0;34m)\u001b[0m\u001b[0;34m\u001b[0m\u001b[0m\n\u001b[0;32m--> 378\u001b[0;31m                 \u001b[0;32mraise\u001b[0m \u001b[0me\u001b[0m\u001b[0;34m\u001b[0m\u001b[0m\n\u001b[0m\u001b[1;32m    379\u001b[0m             \u001b[0;32mfinally\u001b[0m\u001b[0;34m:\u001b[0m\u001b[0;34m\u001b[0m\u001b[0m\n\u001b[1;32m    380\u001b[0m                 \u001b[0mself\u001b[0m\u001b[0;34m.\u001b[0m\u001b[0mset_out_of_band_serialization\u001b[0m\u001b[0;34m(\u001b[0m\u001b[0;34m)\u001b[0m\u001b[0;34m\u001b[0m\u001b[0m\n",
      "\u001b[0;32m~/anaconda3/envs/zoo-tf2.3/lib/python3.6/site-packages/ray/serialization.py\u001b[0m in \u001b[0;36mserialize\u001b[0;34m(self, value)\u001b[0m\n\u001b[1;32m    373\u001b[0m                 \u001b[0mself\u001b[0m\u001b[0;34m.\u001b[0m\u001b[0mset_in_band_serialization\u001b[0m\u001b[0;34m(\u001b[0m\u001b[0;34m)\u001b[0m\u001b[0;34m\u001b[0m\u001b[0m\n\u001b[1;32m    374\u001b[0m                 inband = pickle.dumps(\n\u001b[0;32m--> 375\u001b[0;31m                     value, protocol=5, buffer_callback=writer.buffer_callback)\n\u001b[0m\u001b[1;32m    376\u001b[0m             \u001b[0;32mexcept\u001b[0m \u001b[0mException\u001b[0m \u001b[0;32mas\u001b[0m \u001b[0me\u001b[0m\u001b[0;34m:\u001b[0m\u001b[0;34m\u001b[0m\u001b[0m\n\u001b[1;32m    377\u001b[0m                 \u001b[0mself\u001b[0m\u001b[0;34m.\u001b[0m\u001b[0mget_and_clear_contained_object_ids\u001b[0m\u001b[0;34m(\u001b[0m\u001b[0;34m)\u001b[0m\u001b[0;34m\u001b[0m\u001b[0m\n",
      "\u001b[0;32m~/anaconda3/envs/zoo-tf2.3/lib/python3.6/site-packages/ray/cloudpickle/cloudpickle_fast.py\u001b[0m in \u001b[0;36mdumps\u001b[0;34m(obj, protocol, buffer_callback)\u001b[0m\n\u001b[1;32m     70\u001b[0m         cp = CloudPickler(file, protocol=protocol,\n\u001b[1;32m     71\u001b[0m                           buffer_callback=buffer_callback)\n\u001b[0;32m---> 72\u001b[0;31m         \u001b[0mcp\u001b[0m\u001b[0;34m.\u001b[0m\u001b[0mdump\u001b[0m\u001b[0;34m(\u001b[0m\u001b[0mobj\u001b[0m\u001b[0;34m)\u001b[0m\u001b[0;34m\u001b[0m\u001b[0m\n\u001b[0m\u001b[1;32m     73\u001b[0m         \u001b[0;32mreturn\u001b[0m \u001b[0mfile\u001b[0m\u001b[0;34m.\u001b[0m\u001b[0mgetvalue\u001b[0m\u001b[0;34m(\u001b[0m\u001b[0;34m)\u001b[0m\u001b[0;34m\u001b[0m\u001b[0m\n\u001b[1;32m     74\u001b[0m \u001b[0;34m\u001b[0m\u001b[0m\n",
      "\u001b[0;32m~/anaconda3/envs/zoo-tf2.3/lib/python3.6/site-packages/ray/cloudpickle/cloudpickle_fast.py\u001b[0m in \u001b[0;36mdump\u001b[0;34m(self, obj)\u001b[0m\n\u001b[1;32m    615\u001b[0m     \u001b[0;32mdef\u001b[0m \u001b[0mdump\u001b[0m\u001b[0;34m(\u001b[0m\u001b[0mself\u001b[0m\u001b[0;34m,\u001b[0m \u001b[0mobj\u001b[0m\u001b[0;34m)\u001b[0m\u001b[0;34m:\u001b[0m\u001b[0;34m\u001b[0m\u001b[0m\n\u001b[1;32m    616\u001b[0m         \u001b[0;32mtry\u001b[0m\u001b[0;34m:\u001b[0m\u001b[0;34m\u001b[0m\u001b[0m\n\u001b[0;32m--> 617\u001b[0;31m             \u001b[0;32mreturn\u001b[0m \u001b[0mPickler\u001b[0m\u001b[0;34m.\u001b[0m\u001b[0mdump\u001b[0m\u001b[0;34m(\u001b[0m\u001b[0mself\u001b[0m\u001b[0;34m,\u001b[0m \u001b[0mobj\u001b[0m\u001b[0;34m)\u001b[0m\u001b[0;34m\u001b[0m\u001b[0m\n\u001b[0m\u001b[1;32m    618\u001b[0m         \u001b[0;32mexcept\u001b[0m \u001b[0mRuntimeError\u001b[0m \u001b[0;32mas\u001b[0m \u001b[0me\u001b[0m\u001b[0;34m:\u001b[0m\u001b[0;34m\u001b[0m\u001b[0m\n\u001b[1;32m    619\u001b[0m             \u001b[0;32mif\u001b[0m \u001b[0;34m\"recursion\"\u001b[0m \u001b[0;32min\u001b[0m \u001b[0me\u001b[0m\u001b[0;34m.\u001b[0m\u001b[0margs\u001b[0m\u001b[0;34m[\u001b[0m\u001b[0;36m0\u001b[0m\u001b[0;34m]\u001b[0m\u001b[0;34m:\u001b[0m\u001b[0;34m\u001b[0m\u001b[0m\n",
      "\u001b[0;31mTypeError\u001b[0m: can't pickle _thread.RLock objects"
     ]
    },
    {
     "name": "stderr",
     "output_type": "stream",
     "text": [
      "Exception ignored in: 'ray._raylet.prepare_args'\n",
      "Traceback (most recent call last):\n",
      "  File \"/root/anaconda3/envs/zoo-tf2.3/lib/python3.6/site-packages/ray/serialization.py\", line 378, in serialize\n",
      "    raise e\n",
      "  File \"/root/anaconda3/envs/zoo-tf2.3/lib/python3.6/site-packages/ray/serialization.py\", line 375, in serialize\n",
      "    value, protocol=5, buffer_callback=writer.buffer_callback)\n",
      "  File \"/root/anaconda3/envs/zoo-tf2.3/lib/python3.6/site-packages/ray/cloudpickle/cloudpickle_fast.py\", line 72, in dumps\n",
      "    cp.dump(obj)\n",
      "  File \"/root/anaconda3/envs/zoo-tf2.3/lib/python3.6/site-packages/ray/cloudpickle/cloudpickle_fast.py\", line 617, in dump\n",
      "    return Pickler.dump(self, obj)\n",
      "TypeError: can't pickle _thread.RLock objects\n"
     ]
    },
    {
     "ename": "TypeError",
     "evalue": "can't pickle _thread.RLock objects",
     "output_type": "error",
     "traceback": [
      "\u001b[0;31m---------------------------------------------------------------------------\u001b[0m",
      "\u001b[0;31mTypeError\u001b[0m                                 Traceback (most recent call last)",
      "\u001b[0;32m~/anaconda3/envs/zoo-tf2.3/lib/python3.6/site-packages/ray/serialization.py\u001b[0m in \u001b[0;36mserialize\u001b[0;34m(self, value)\u001b[0m\n\u001b[1;32m    376\u001b[0m             \u001b[0;32mexcept\u001b[0m \u001b[0mException\u001b[0m \u001b[0;32mas\u001b[0m \u001b[0me\u001b[0m\u001b[0;34m:\u001b[0m\u001b[0;34m\u001b[0m\u001b[0m\n\u001b[1;32m    377\u001b[0m                 \u001b[0mself\u001b[0m\u001b[0;34m.\u001b[0m\u001b[0mget_and_clear_contained_object_ids\u001b[0m\u001b[0;34m(\u001b[0m\u001b[0;34m)\u001b[0m\u001b[0;34m\u001b[0m\u001b[0m\n\u001b[0;32m--> 378\u001b[0;31m                 \u001b[0;32mraise\u001b[0m \u001b[0me\u001b[0m\u001b[0;34m\u001b[0m\u001b[0m\n\u001b[0m\u001b[1;32m    379\u001b[0m             \u001b[0;32mfinally\u001b[0m\u001b[0;34m:\u001b[0m\u001b[0;34m\u001b[0m\u001b[0m\n\u001b[1;32m    380\u001b[0m                 \u001b[0mself\u001b[0m\u001b[0;34m.\u001b[0m\u001b[0mset_out_of_band_serialization\u001b[0m\u001b[0;34m(\u001b[0m\u001b[0;34m)\u001b[0m\u001b[0;34m\u001b[0m\u001b[0m\n",
      "\u001b[0;32m~/anaconda3/envs/zoo-tf2.3/lib/python3.6/site-packages/ray/serialization.py\u001b[0m in \u001b[0;36mserialize\u001b[0;34m(self, value)\u001b[0m\n\u001b[1;32m    373\u001b[0m                 \u001b[0mself\u001b[0m\u001b[0;34m.\u001b[0m\u001b[0mset_in_band_serialization\u001b[0m\u001b[0;34m(\u001b[0m\u001b[0;34m)\u001b[0m\u001b[0;34m\u001b[0m\u001b[0m\n\u001b[1;32m    374\u001b[0m                 inband = pickle.dumps(\n\u001b[0;32m--> 375\u001b[0;31m                     value, protocol=5, buffer_callback=writer.buffer_callback)\n\u001b[0m\u001b[1;32m    376\u001b[0m             \u001b[0;32mexcept\u001b[0m \u001b[0mException\u001b[0m \u001b[0;32mas\u001b[0m \u001b[0me\u001b[0m\u001b[0;34m:\u001b[0m\u001b[0;34m\u001b[0m\u001b[0m\n\u001b[1;32m    377\u001b[0m                 \u001b[0mself\u001b[0m\u001b[0;34m.\u001b[0m\u001b[0mget_and_clear_contained_object_ids\u001b[0m\u001b[0;34m(\u001b[0m\u001b[0;34m)\u001b[0m\u001b[0;34m\u001b[0m\u001b[0m\n",
      "\u001b[0;32m~/anaconda3/envs/zoo-tf2.3/lib/python3.6/site-packages/ray/cloudpickle/cloudpickle_fast.py\u001b[0m in \u001b[0;36mdumps\u001b[0;34m(obj, protocol, buffer_callback)\u001b[0m\n\u001b[1;32m     70\u001b[0m         cp = CloudPickler(file, protocol=protocol,\n\u001b[1;32m     71\u001b[0m                           buffer_callback=buffer_callback)\n\u001b[0;32m---> 72\u001b[0;31m         \u001b[0mcp\u001b[0m\u001b[0;34m.\u001b[0m\u001b[0mdump\u001b[0m\u001b[0;34m(\u001b[0m\u001b[0mobj\u001b[0m\u001b[0;34m)\u001b[0m\u001b[0;34m\u001b[0m\u001b[0m\n\u001b[0m\u001b[1;32m     73\u001b[0m         \u001b[0;32mreturn\u001b[0m \u001b[0mfile\u001b[0m\u001b[0;34m.\u001b[0m\u001b[0mgetvalue\u001b[0m\u001b[0;34m(\u001b[0m\u001b[0;34m)\u001b[0m\u001b[0;34m\u001b[0m\u001b[0m\n\u001b[1;32m     74\u001b[0m \u001b[0;34m\u001b[0m\u001b[0m\n",
      "\u001b[0;32m~/anaconda3/envs/zoo-tf2.3/lib/python3.6/site-packages/ray/cloudpickle/cloudpickle_fast.py\u001b[0m in \u001b[0;36mdump\u001b[0;34m(self, obj)\u001b[0m\n\u001b[1;32m    615\u001b[0m     \u001b[0;32mdef\u001b[0m \u001b[0mdump\u001b[0m\u001b[0;34m(\u001b[0m\u001b[0mself\u001b[0m\u001b[0;34m,\u001b[0m \u001b[0mobj\u001b[0m\u001b[0;34m)\u001b[0m\u001b[0;34m:\u001b[0m\u001b[0;34m\u001b[0m\u001b[0m\n\u001b[1;32m    616\u001b[0m         \u001b[0;32mtry\u001b[0m\u001b[0;34m:\u001b[0m\u001b[0;34m\u001b[0m\u001b[0m\n\u001b[0;32m--> 617\u001b[0;31m             \u001b[0;32mreturn\u001b[0m \u001b[0mPickler\u001b[0m\u001b[0;34m.\u001b[0m\u001b[0mdump\u001b[0m\u001b[0;34m(\u001b[0m\u001b[0mself\u001b[0m\u001b[0;34m,\u001b[0m \u001b[0mobj\u001b[0m\u001b[0;34m)\u001b[0m\u001b[0;34m\u001b[0m\u001b[0m\n\u001b[0m\u001b[1;32m    618\u001b[0m         \u001b[0;32mexcept\u001b[0m \u001b[0mRuntimeError\u001b[0m \u001b[0;32mas\u001b[0m \u001b[0me\u001b[0m\u001b[0;34m:\u001b[0m\u001b[0;34m\u001b[0m\u001b[0m\n\u001b[1;32m    619\u001b[0m             \u001b[0;32mif\u001b[0m \u001b[0;34m\"recursion\"\u001b[0m \u001b[0;32min\u001b[0m \u001b[0me\u001b[0m\u001b[0;34m.\u001b[0m\u001b[0margs\u001b[0m\u001b[0;34m[\u001b[0m\u001b[0;36m0\u001b[0m\u001b[0;34m]\u001b[0m\u001b[0;34m:\u001b[0m\u001b[0;34m\u001b[0m\u001b[0m\n",
      "\u001b[0;31mTypeError\u001b[0m: can't pickle _thread.RLock objects"
     ]
    },
    {
     "name": "stderr",
     "output_type": "stream",
     "text": [
      "Exception ignored in: 'ray._raylet.prepare_args'\n",
      "Traceback (most recent call last):\n",
      "  File \"/root/anaconda3/envs/zoo-tf2.3/lib/python3.6/site-packages/ray/serialization.py\", line 378, in serialize\n",
      "    raise e\n",
      "  File \"/root/anaconda3/envs/zoo-tf2.3/lib/python3.6/site-packages/ray/serialization.py\", line 375, in serialize\n",
      "    value, protocol=5, buffer_callback=writer.buffer_callback)\n",
      "  File \"/root/anaconda3/envs/zoo-tf2.3/lib/python3.6/site-packages/ray/cloudpickle/cloudpickle_fast.py\", line 72, in dumps\n",
      "    cp.dump(obj)\n",
      "  File \"/root/anaconda3/envs/zoo-tf2.3/lib/python3.6/site-packages/ray/cloudpickle/cloudpickle_fast.py\", line 617, in dump\n",
      "    return Pickler.dump(self, obj)\n",
      "TypeError: can't pickle _thread.RLock objects\n"
     ]
    },
    {
     "name": "stdout",
     "output_type": "stream",
     "text": [
      "\u001b[2m\u001b[36m(pid=188804, ip=192.168.1.1)\u001b[0m Prepending /hadoop/yarn/local/usercache/hdfs/appcache/application_1608014057528_0031/container_e15_1608014057528_0031_01_000005/python_env/lib/python3.6/site-packages/bigdl/share/conf/spark-bigdl.conf to sys.path\n",
      "\u001b[2m\u001b[36m(pid=188804, ip=192.168.1.1)\u001b[0m Prepending /hadoop/yarn/local/usercache/hdfs/appcache/application_1608014057528_0031/container_e15_1608014057528_0031_01_000005/python_env/lib/python3.6/site-packages/zoo/share/conf/spark-analytics-zoo.conf to sys.path\n",
      "\u001b[2m\u001b[36m(pid=188679, ip=192.168.1.1)\u001b[0m Prepending /hadoop/yarn/local/usercache/hdfs/appcache/application_1608014057528_0031/container_e15_1608014057528_0031_01_000004/python_env/lib/python3.6/site-packages/bigdl/share/conf/spark-bigdl.conf to sys.path\n",
      "\u001b[2m\u001b[36m(pid=188679, ip=192.168.1.1)\u001b[0m Prepending /hadoop/yarn/local/usercache/hdfs/appcache/application_1608014057528_0031/container_e15_1608014057528_0031_01_000004/python_env/lib/python3.6/site-packages/zoo/share/conf/spark-analytics-zoo.conf to sys.path\n",
      "\u001b[2m\u001b[36m(pid=188731, ip=192.168.1.1)\u001b[0m Prepending /hadoop/yarn/local/usercache/hdfs/appcache/application_1608014057528_0031/container_e15_1608014057528_0031_01_000002/python_env/lib/python3.6/site-packages/bigdl/share/conf/spark-bigdl.conf to sys.path\n",
      "\u001b[2m\u001b[36m(pid=188731, ip=192.168.1.1)\u001b[0m Prepending /hadoop/yarn/local/usercache/hdfs/appcache/application_1608014057528_0031/container_e15_1608014057528_0031_01_000002/python_env/lib/python3.6/site-packages/zoo/share/conf/spark-analytics-zoo.conf to sys.path\n",
      "\u001b[2m\u001b[36m(pid=188805, ip=192.168.1.1)\u001b[0m Prepending /hadoop/yarn/local/usercache/hdfs/appcache/application_1608014057528_0031/container_e15_1608014057528_0031_01_000005/python_env/lib/python3.6/site-packages/bigdl/share/conf/spark-bigdl.conf to sys.path\n",
      "\u001b[2m\u001b[36m(pid=188805, ip=192.168.1.1)\u001b[0m Prepending /hadoop/yarn/local/usercache/hdfs/appcache/application_1608014057528_0031/container_e15_1608014057528_0031_01_000005/python_env/lib/python3.6/site-packages/zoo/share/conf/spark-analytics-zoo.conf to sys.path\n",
      "\u001b[2m\u001b[36m(pid=188851, ip=192.168.1.1)\u001b[0m Prepending /hadoop/yarn/local/usercache/hdfs/appcache/application_1608014057528_0031/container_e15_1608014057528_0031_01_000003/python_env/lib/python3.6/site-packages/bigdl/share/conf/spark-bigdl.conf to sys.path\n",
      "\u001b[2m\u001b[36m(pid=188851, ip=192.168.1.1)\u001b[0m Prepending /hadoop/yarn/local/usercache/hdfs/appcache/application_1608014057528_0031/container_e15_1608014057528_0031_01_000003/python_env/lib/python3.6/site-packages/zoo/share/conf/spark-analytics-zoo.conf to sys.path\n",
      "\u001b[2m\u001b[36m(pid=188680, ip=192.168.1.1)\u001b[0m Prepending /hadoop/yarn/local/usercache/hdfs/appcache/application_1608014057528_0031/container_e15_1608014057528_0031_01_000004/python_env/lib/python3.6/site-packages/bigdl/share/conf/spark-bigdl.conf to sys.path\n",
      "\u001b[2m\u001b[36m(pid=188680, ip=192.168.1.1)\u001b[0m Prepending /hadoop/yarn/local/usercache/hdfs/appcache/application_1608014057528_0031/container_e15_1608014057528_0031_01_000004/python_env/lib/python3.6/site-packages/zoo/share/conf/spark-analytics-zoo.conf to sys.path\n",
      "\u001b[2m\u001b[36m(pid=188730, ip=192.168.1.1)\u001b[0m Prepending /hadoop/yarn/local/usercache/hdfs/appcache/application_1608014057528_0031/container_e15_1608014057528_0031_01_000002/python_env/lib/python3.6/site-packages/bigdl/share/conf/spark-bigdl.conf to sys.path\n",
      "\u001b[2m\u001b[36m(pid=188730, ip=192.168.1.1)\u001b[0m Prepending /hadoop/yarn/local/usercache/hdfs/appcache/application_1608014057528_0031/container_e15_1608014057528_0031_01_000002/python_env/lib/python3.6/site-packages/zoo/share/conf/spark-analytics-zoo.conf to sys.path\n",
      "\u001b[2m\u001b[36m(pid=188852, ip=192.168.1.1)\u001b[0m Prepending /hadoop/yarn/local/usercache/hdfs/appcache/application_1608014057528_0031/container_e15_1608014057528_0031_01_000003/python_env/lib/python3.6/site-packages/bigdl/share/conf/spark-bigdl.conf to sys.path\n",
      "\u001b[2m\u001b[36m(pid=188852, ip=192.168.1.1)\u001b[0m Prepending /hadoop/yarn/local/usercache/hdfs/appcache/application_1608014057528_0031/container_e15_1608014057528_0031_01_000003/python_env/lib/python3.6/site-packages/zoo/share/conf/spark-analytics-zoo.conf to sys.path\n",
      "\u001b[2m\u001b[36m(pid=188679, ip=192.168.1.1)\u001b[0m 2020-12-22 04:33:23.163373: W tensorflow/stream_executor/platform/default/dso_loader.cc:59] Could not load dynamic library 'libcudart.so.10.1'; dlerror: libcudart.so.10.1: cannot open shared object file: No such file or directory; LD_LIBRARY_PATH: :/usr/jdk64/java/jre/lib/amd64/server:/usr/hdp/3.0.1.0-187/usr/lib/\n",
      "\u001b[2m\u001b[36m(pid=188679, ip=192.168.1.1)\u001b[0m 2020-12-22 04:33:23.163429: I tensorflow/stream_executor/cuda/cudart_stub.cc:29] Ignore above cudart dlerror if you do not have a GPU set up on your machine.\n",
      "\u001b[2m\u001b[36m(pid=188805, ip=192.168.1.1)\u001b[0m 2020-12-22 04:33:23.156236: W tensorflow/stream_executor/platform/default/dso_loader.cc:59] Could not load dynamic library 'libcudart.so.10.1'; dlerror: libcudart.so.10.1: cannot open shared object file: No such file or directory; LD_LIBRARY_PATH: :/usr/jdk64/java/jre/lib/amd64/server:/usr/hdp/3.0.1.0-187/usr/lib/\n",
      "\u001b[2m\u001b[36m(pid=188805, ip=192.168.1.1)\u001b[0m 2020-12-22 04:33:23.156305: I tensorflow/stream_executor/cuda/cudart_stub.cc:29] Ignore above cudart dlerror if you do not have a GPU set up on your machine.\n",
      "\u001b[2m\u001b[36m(pid=188804, ip=192.168.1.1)\u001b[0m 2020-12-22 04:33:23.163178: W tensorflow/stream_executor/platform/default/dso_loader.cc:59] Could not load dynamic library 'libcudart.so.10.1'; dlerror: libcudart.so.10.1: cannot open shared object file: No such file or directory; LD_LIBRARY_PATH: :/usr/jdk64/java/jre/lib/amd64/server:/usr/hdp/3.0.1.0-187/usr/lib/\n",
      "\u001b[2m\u001b[36m(pid=188804, ip=192.168.1.1)\u001b[0m 2020-12-22 04:33:23.163239: I tensorflow/stream_executor/cuda/cudart_stub.cc:29] Ignore above cudart dlerror if you do not have a GPU set up on your machine.\n",
      "\u001b[2m\u001b[36m(pid=188851, ip=192.168.1.1)\u001b[0m 2020-12-22 04:33:23.181150: W tensorflow/stream_executor/platform/default/dso_loader.cc:59] Could not load dynamic library 'libcudart.so.10.1'; dlerror: libcudart.so.10.1: cannot open shared object file: No such file or directory; LD_LIBRARY_PATH: :/usr/jdk64/java/jre/lib/amd64/server:/usr/hdp/3.0.1.0-187/usr/lib/\n",
      "\u001b[2m\u001b[36m(pid=188851, ip=192.168.1.1)\u001b[0m 2020-12-22 04:33:23.181191: I tensorflow/stream_executor/cuda/cudart_stub.cc:29] Ignore above cudart dlerror if you do not have a GPU set up on your machine.\n",
      "\u001b[2m\u001b[36m(pid=188680, ip=192.168.1.1)\u001b[0m 2020-12-22 04:33:23.192742: W tensorflow/stream_executor/platform/default/dso_loader.cc:59] Could not load dynamic library 'libcudart.so.10.1'; dlerror: libcudart.so.10.1: cannot open shared object file: No such file or directory; LD_LIBRARY_PATH: :/usr/jdk64/java/jre/lib/amd64/server:/usr/hdp/3.0.1.0-187/usr/lib/\n",
      "\u001b[2m\u001b[36m(pid=188680, ip=192.168.1.1)\u001b[0m 2020-12-22 04:33:23.192802: I tensorflow/stream_executor/cuda/cudart_stub.cc:29] Ignore above cudart dlerror if you do not have a GPU set up on your machine.\n",
      "\u001b[2m\u001b[36m(pid=188731, ip=192.168.1.1)\u001b[0m 2020-12-22 04:33:23.192729: W tensorflow/stream_executor/platform/default/dso_loader.cc:59] Could not load dynamic library 'libcudart.so.10.1'; dlerror: libcudart.so.10.1: cannot open shared object file: No such file or directory; LD_LIBRARY_PATH: :/usr/jdk64/java/jre/lib/amd64/server:/usr/hdp/3.0.1.0-187/usr/lib/\n",
      "\u001b[2m\u001b[36m(pid=188731, ip=192.168.1.1)\u001b[0m 2020-12-22 04:33:23.192795: I tensorflow/stream_executor/cuda/cudart_stub.cc:29] Ignore above cudart dlerror if you do not have a GPU set up on your machine.\n",
      "\u001b[2m\u001b[36m(pid=188852, ip=192.168.1.1)\u001b[0m 2020-12-22 04:33:23.192744: W tensorflow/stream_executor/platform/default/dso_loader.cc:59] Could not load dynamic library 'libcudart.so.10.1'; dlerror: libcudart.so.10.1: cannot open shared object file: No such file or directory; LD_LIBRARY_PATH: :/usr/jdk64/java/jre/lib/amd64/server:/usr/hdp/3.0.1.0-187/usr/lib/\n",
      "\u001b[2m\u001b[36m(pid=188852, ip=192.168.1.1)\u001b[0m 2020-12-22 04:33:23.192803: I tensorflow/stream_executor/cuda/cudart_stub.cc:29] Ignore above cudart dlerror if you do not have a GPU set up on your machine.\n",
      "\u001b[2m\u001b[36m(pid=188730, ip=192.168.1.1)\u001b[0m 2020-12-22 04:33:23.233367: W tensorflow/stream_executor/platform/default/dso_loader.cc:59] Could not load dynamic library 'libcudart.so.10.1'; dlerror: libcudart.so.10.1: cannot open shared object file: No such file or directory; LD_LIBRARY_PATH: :/usr/jdk64/java/jre/lib/amd64/server:/usr/hdp/3.0.1.0-187/usr/lib/\n",
      "\u001b[2m\u001b[36m(pid=188730, ip=192.168.1.1)\u001b[0m 2020-12-22 04:33:23.233437: I tensorflow/stream_executor/cuda/cudart_stub.cc:29] Ignore above cudart dlerror if you do not have a GPU set up on your machine.\n"
     ]
    },
    {
     "ename": "RayTaskError(AssertionError)",
     "evalue": "\u001b[36mray::IDLE\u001b[39m (pid=188804, ip=192.168.1.1)\n  File \"python/ray/_raylet.pyx\", line 414, in ray._raylet.execute_task\n  File \"python/ray/_raylet.pyx\", line 417, in ray._raylet.execute_task\n  File \"python/ray/_raylet.pyx\", line 440, in ray._raylet.execute_task\n  File \"/hadoop/yarn/local/usercache/hdfs/appcache/application_1608014057528_0031/container_e15_1608014057528_0031_01_000005/python_env/lib/python3.6/site-packages/ray/signature.py\", line 139, in recover_args\n    \"Flattened arguments need to be even-numbered. See `flatten_args`.\")\nAssertionError: Flattened arguments need to be even-numbered. See `flatten_args`.",
     "output_type": "error",
     "traceback": [
      "\u001b[0;31m---------------------------------------------------------------------------\u001b[0m",
      "\u001b[0;31mRayTaskError(AssertionError)\u001b[0m              Traceback (most recent call last)",
      "\u001b[0;32m<timed exec>\u001b[0m in \u001b[0;36m<module>\u001b[0;34m\u001b[0m\n",
      "\u001b[0;32m<ipython-input-8-a6ffe331ab73>\u001b[0m in \u001b[0;36mmain\u001b[0;34m(max_epoch)\u001b[0m\n\u001b[1;32m      5\u001b[0m     }\n\u001b[1;32m      6\u001b[0m \u001b[0;34m\u001b[0m\u001b[0m\n\u001b[0;32m----> 7\u001b[0;31m     \u001b[0mest\u001b[0m \u001b[0;34m=\u001b[0m \u001b[0mEstimator\u001b[0m\u001b[0;34m.\u001b[0m\u001b[0mfrom_keras\u001b[0m\u001b[0;34m(\u001b[0m\u001b[0mmodel_creator\u001b[0m\u001b[0;34m,\u001b[0m \u001b[0mconfig\u001b[0m\u001b[0;34m=\u001b[0m\u001b[0mconfig\u001b[0m\u001b[0;34m,\u001b[0m \u001b[0mworkers_per_node\u001b[0m\u001b[0;34m=\u001b[0m\u001b[0;36m2\u001b[0m\u001b[0;34m)\u001b[0m\u001b[0;34m\u001b[0m\u001b[0m\n\u001b[0m\u001b[1;32m      8\u001b[0m \u001b[0;34m\u001b[0m\u001b[0m\n\u001b[1;32m      9\u001b[0m     \u001b[0;31m# callback\u001b[0m\u001b[0;34m\u001b[0m\u001b[0;34m\u001b[0m\u001b[0m\n",
      "\u001b[0;32m~/anaconda3/envs/zoo-tf2.3/lib/python3.6/site-packages/zoo/orca/learn/tf2/tf_ray_estimator.py\u001b[0m in \u001b[0;36mfrom_keras\u001b[0;34m(cls, model_creator, config, verbose, workers_per_node, compile_args_creator, backend)\u001b[0m\n\u001b[1;32m    189\u001b[0m         return cls(model_creator, config=config,\n\u001b[1;32m    190\u001b[0m                    \u001b[0mverbose\u001b[0m\u001b[0;34m=\u001b[0m\u001b[0mverbose\u001b[0m\u001b[0;34m,\u001b[0m \u001b[0mworkers_per_node\u001b[0m\u001b[0;34m=\u001b[0m\u001b[0mworkers_per_node\u001b[0m\u001b[0;34m,\u001b[0m\u001b[0;34m\u001b[0m\u001b[0m\n\u001b[0;32m--> 191\u001b[0;31m                    backend=backend, compile_args_creator=compile_args_creator)\n\u001b[0m\u001b[1;32m    192\u001b[0m \u001b[0;34m\u001b[0m\u001b[0m\n\u001b[1;32m    193\u001b[0m     def fit(self, data_creator, epochs=1, verbose=1,\n",
      "\u001b[0;32m~/anaconda3/envs/zoo-tf2.3/lib/python3.6/site-packages/zoo/orca/learn/tf2/tf_ray_estimator.py\u001b[0m in \u001b[0;36m__init__\u001b[0;34m(self, model_creator, compile_args_creator, config, verbose, backend, workers_per_node)\u001b[0m\n\u001b[1;32m    151\u001b[0m                                    for i in range(0, num_nodes)]\n\u001b[1;32m    152\u001b[0m             ips = ray.get(\n\u001b[0;32m--> 153\u001b[0;31m                 [worker.get_node_ip.remote() for worker in self.remote_workers])\n\u001b[0m\u001b[1;32m    154\u001b[0m             ports = ray.get(\n\u001b[1;32m    155\u001b[0m                 [worker.find_free_port.remote() for worker in self.remote_workers])\n",
      "\u001b[0;32m~/anaconda3/envs/zoo-tf2.3/lib/python3.6/site-packages/ray/worker.py\u001b[0m in \u001b[0;36mget\u001b[0;34m(object_ids, timeout)\u001b[0m\n\u001b[1;32m   1511\u001b[0m                     \u001b[0mworker\u001b[0m\u001b[0;34m.\u001b[0m\u001b[0mcore_worker\u001b[0m\u001b[0;34m.\u001b[0m\u001b[0mdump_object_store_memory_usage\u001b[0m\u001b[0;34m(\u001b[0m\u001b[0;34m)\u001b[0m\u001b[0;34m\u001b[0m\u001b[0m\n\u001b[1;32m   1512\u001b[0m                 \u001b[0;32mif\u001b[0m \u001b[0misinstance\u001b[0m\u001b[0;34m(\u001b[0m\u001b[0mvalue\u001b[0m\u001b[0;34m,\u001b[0m \u001b[0mRayTaskError\u001b[0m\u001b[0;34m)\u001b[0m\u001b[0;34m:\u001b[0m\u001b[0;34m\u001b[0m\u001b[0m\n\u001b[0;32m-> 1513\u001b[0;31m                     \u001b[0;32mraise\u001b[0m \u001b[0mvalue\u001b[0m\u001b[0;34m.\u001b[0m\u001b[0mas_instanceof_cause\u001b[0m\u001b[0;34m(\u001b[0m\u001b[0;34m)\u001b[0m\u001b[0;34m\u001b[0m\u001b[0m\n\u001b[0m\u001b[1;32m   1514\u001b[0m                 \u001b[0;32melse\u001b[0m\u001b[0;34m:\u001b[0m\u001b[0;34m\u001b[0m\u001b[0m\n\u001b[1;32m   1515\u001b[0m                     \u001b[0;32mraise\u001b[0m \u001b[0mvalue\u001b[0m\u001b[0;34m\u001b[0m\u001b[0m\n",
      "\u001b[0;31mRayTaskError(AssertionError)\u001b[0m: \u001b[36mray::IDLE\u001b[39m (pid=188804, ip=192.168.1.1)\n  File \"python/ray/_raylet.pyx\", line 414, in ray._raylet.execute_task\n  File \"python/ray/_raylet.pyx\", line 417, in ray._raylet.execute_task\n  File \"python/ray/_raylet.pyx\", line 440, in ray._raylet.execute_task\n  File \"/hadoop/yarn/local/usercache/hdfs/appcache/application_1608014057528_0031/container_e15_1608014057528_0031_01_000005/python_env/lib/python3.6/site-packages/ray/signature.py\", line 139, in recover_args\n    \"Flattened arguments need to be even-numbered. See `flatten_args`.\")\nAssertionError: Flattened arguments need to be even-numbered. See `flatten_args`."
     ]
    }
   ],
   "source": [
    "%%time\n",
    "import time\n",
    "env={\"LD_LIBRARY_PATH\": os.environ[\"LD_LIBRARY_PATH\"],\n",
    "    \"HADOOP_HDFS_HOME\": os.environ[\"LD_LIBRARY_PATH\"],\n",
    "    \"CLASSPATH\":os.environ[\"CLASSPATH\"]}\n",
    "cluster_mode = \"yarn\"\n",
    "if cluster_mode == \"local\":\n",
    "    init_orca_context(cluster_mode=\"local\", cores=2, init_ray_on_spark=True)\n",
    "elif cluster_mode == \"yarn\":\n",
    "    init_orca_context(cluster_mode=\"yarn-client\", num_nodes=4, cores=2,\n",
    "                      init_ray_on_spark=True, memory=\"32g\", driver_memory=\"2g\",hadoop_user_name='hdfs', hadoop_conf=\"/etc/hadoop/3.0.1.0-187/0/\",env=env)\n",
    "start_time = time.time()\n",
    "history = main(1)\n",
    "print(\"Total: \", time.time() - start_time)"
   ]
  }
 ],
 "metadata": {
  "kernelspec": {
   "display_name": "zoo-tf2.3",
   "language": "python",
   "name": "zoo-tf2.3"
  },
  "language_info": {
   "codemirror_mode": {
    "name": "ipython",
    "version": 3
   },
   "file_extension": ".py",
   "mimetype": "text/x-python",
   "name": "python",
   "nbconvert_exporter": "python",
   "pygments_lexer": "ipython3",
   "version": "3.6.5"
  }
 },
 "nbformat": 4,
 "nbformat_minor": 2
}
